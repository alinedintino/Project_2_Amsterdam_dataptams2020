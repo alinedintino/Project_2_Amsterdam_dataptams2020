{
 "cells": [
  {
   "cell_type": "code",
   "execution_count": 2,
   "metadata": {},
   "outputs": [],
   "source": [
    "import pandas as pd\n",
    "import numpy as np\n"
   ]
  },
  {
   "cell_type": "code",
   "execution_count": 14,
   "metadata": {
    "scrolled": true
   },
   "outputs": [],
   "source": [
    "data_amsterdam = pd.read_csv((\"../data/rental_data_amsterdam_final.csv\"),index_col=0)\n",
    "data_utrecht = pd.read_csv((\"../data/rental_data_utrecht_final.csv\"),index_col=0)\n",
    "data_rotterdam = pd.read_csv((\"../data/rental_data_rotterdam_final.csv\"),index_col=0)"
   ]
  },
  {
   "cell_type": "code",
   "execution_count": 15,
   "metadata": {},
   "outputs": [
    {
     "data": {
      "text/html": [
       "<div>\n",
       "<style scoped>\n",
       "    .dataframe tbody tr th:only-of-type {\n",
       "        vertical-align: middle;\n",
       "    }\n",
       "\n",
       "    .dataframe tbody tr th {\n",
       "        vertical-align: top;\n",
       "    }\n",
       "\n",
       "    .dataframe thead th {\n",
       "        text-align: right;\n",
       "    }\n",
       "</style>\n",
       "<table border=\"1\" class=\"dataframe\">\n",
       "  <thead>\n",
       "    <tr style=\"text-align: right;\">\n",
       "      <th></th>\n",
       "      <th>house_price_rotterdam</th>\n",
       "      <th>rental_agency_rotterdam</th>\n",
       "      <th>postcode_rotterdam</th>\n",
       "      <th>bedrooms_rotterdam</th>\n",
       "      <th>surface_rotterdam</th>\n",
       "    </tr>\n",
       "  </thead>\n",
       "  <tbody>\n",
       "    <tr>\n",
       "      <th>0</th>\n",
       "      <td>2400.0</td>\n",
       "      <td>ViaDaan</td>\n",
       "      <td>3039CP</td>\n",
       "      <td>5</td>\n",
       "      <td>91</td>\n",
       "    </tr>\n",
       "    <tr>\n",
       "      <th>1</th>\n",
       "      <td>935.0</td>\n",
       "      <td>Rental Rotterdam</td>\n",
       "      <td>3061GT</td>\n",
       "      <td>2</td>\n",
       "      <td>50</td>\n",
       "    </tr>\n",
       "    <tr>\n",
       "      <th>2</th>\n",
       "      <td>600.0</td>\n",
       "      <td>Rental Rotterdam</td>\n",
       "      <td>3062GL</td>\n",
       "      <td>1</td>\n",
       "      <td>20</td>\n",
       "    </tr>\n",
       "    <tr>\n",
       "      <th>3</th>\n",
       "      <td>1500.0</td>\n",
       "      <td>Rental Rotterdam</td>\n",
       "      <td>3021ZA</td>\n",
       "      <td>3</td>\n",
       "      <td>76</td>\n",
       "    </tr>\n",
       "    <tr>\n",
       "      <th>4</th>\n",
       "      <td>1950.0</td>\n",
       "      <td>Tweelwonen.nl Rotterdam</td>\n",
       "      <td>3011TA</td>\n",
       "      <td>4</td>\n",
       "      <td>136</td>\n",
       "    </tr>\n",
       "  </tbody>\n",
       "</table>\n",
       "</div>"
      ],
      "text/plain": [
       "   house_price_rotterdam  rental_agency_rotterdam postcode_rotterdam  \\\n",
       "0                 2400.0                  ViaDaan             3039CP   \n",
       "1                  935.0         Rental Rotterdam             3061GT   \n",
       "2                  600.0         Rental Rotterdam             3062GL   \n",
       "3                 1500.0         Rental Rotterdam             3021ZA   \n",
       "4                 1950.0  Tweelwonen.nl Rotterdam             3011TA   \n",
       "\n",
       "   bedrooms_rotterdam  surface_rotterdam  \n",
       "0                   5                 91  \n",
       "1                   2                 50  \n",
       "2                   1                 20  \n",
       "3                   3                 76  \n",
       "4                   4                136  "
      ]
     },
     "execution_count": 15,
     "metadata": {},
     "output_type": "execute_result"
    }
   ],
   "source": [
    "data_amsterdam.head()\n",
    "data_utrecht.head()\n",
    "data_rotterdam.head()\n"
   ]
  },
  {
   "cell_type": "code",
   "execution_count": null,
   "metadata": {
    "scrolled": false
   },
   "outputs": [],
   "source": [
    "#renaming amsterdam columns\n",
    "data_amsterdam.columns=['house_price_amsterdam', 'rental_agency_amsterdam', 'postcode_amsterdam', 'bedrooms_amsterdam', 'surface_amsterdam']\n",
    "data_amsterdam.head()"
   ]
  },
  {
   "cell_type": "code",
   "execution_count": null,
   "metadata": {},
   "outputs": [],
   "source": [
    "#renaming utrecht columns\n",
    "data_utrecht.columns=['house_price_utrecht', 'rental_agency_utrecht', 'postcode_utrecht', 'bedrooms_utrecht', 'surface_utrecht']\n",
    "data_utrecht.head()"
   ]
  },
  {
   "cell_type": "code",
   "execution_count": null,
   "metadata": {},
   "outputs": [],
   "source": [
    "#renaming rotterdam columns\n",
    "data_rotterdam.columns=['house_price_rotterdam', 'rental_agency_rotterdam', 'postcode_rotterdam', 'bedrooms_rotterdam', 'surface_rotterdam']\n",
    "data_rotterdam.head()"
   ]
  },
  {
   "cell_type": "code",
   "execution_count": null,
   "metadata": {},
   "outputs": [],
   "source": [
    "data_amsterdam.to_csv(\"rental_data_amsterdam_final.csv\",index=\"false\")"
   ]
  },
  {
   "cell_type": "code",
   "execution_count": null,
   "metadata": {},
   "outputs": [],
   "source": [
    "data_utrecht.to_csv(\"rental_data_utrecht_final.csv\",index=\"false\")"
   ]
  },
  {
   "cell_type": "code",
   "execution_count": null,
   "metadata": {},
   "outputs": [],
   "source": [
    "data_rotterdam.to_csv(\"rental_data_rotterdam_final.csv\",index=\"false\")"
   ]
  }
 ],
 "metadata": {
  "kernelspec": {
   "display_name": "Python 3",
   "language": "python",
   "name": "python3"
  },
  "language_info": {
   "codemirror_mode": {
    "name": "ipython",
    "version": 3
   },
   "file_extension": ".py",
   "mimetype": "text/x-python",
   "name": "python",
   "nbconvert_exporter": "python",
   "pygments_lexer": "ipython3",
   "version": "3.7.6"
  }
 },
 "nbformat": 4,
 "nbformat_minor": 4
}
