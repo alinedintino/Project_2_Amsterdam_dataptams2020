{
 "cells": [
  {
   "cell_type": "markdown",
   "metadata": {},
   "source": [
    "## Import & transform Amsterdam Data"
   ]
  },
  {
   "cell_type": "code",
   "execution_count": 41,
   "metadata": {},
   "outputs": [
    {
     "data": {
      "text/plain": [
       "'C:\\\\Users\\\\RianneRendering\\\\Project_2_Amsterdam_dataptams2020\\\\your-project'"
      ]
     },
     "execution_count": 41,
     "metadata": {},
     "output_type": "execute_result"
    }
   ],
   "source": [
    "import pandas as pd\n",
    "import numpy as np\n",
    "import matplotlib.pyplot as plt\n",
    "import seaborn as sns\n",
    "from scipy import stats\n",
    "import os\n",
    "os.getcwd()"
   ]
  },
  {
   "cell_type": "code",
   "execution_count": 2,
   "metadata": {},
   "outputs": [
    {
     "data": {
      "text/html": [
       "<div>\n",
       "<style scoped>\n",
       "    .dataframe tbody tr th:only-of-type {\n",
       "        vertical-align: middle;\n",
       "    }\n",
       "\n",
       "    .dataframe tbody tr th {\n",
       "        vertical-align: top;\n",
       "    }\n",
       "\n",
       "    .dataframe thead th {\n",
       "        text-align: right;\n",
       "    }\n",
       "</style>\n",
       "<table border=\"1\" class=\"dataframe\">\n",
       "  <thead>\n",
       "    <tr style=\"text-align: right;\">\n",
       "      <th></th>\n",
       "      <th>Unnamed: 0</th>\n",
       "      <th>house_price_amsterdam</th>\n",
       "      <th>rental_agency_amsterdam</th>\n",
       "      <th>postcode_amsterdam</th>\n",
       "      <th>bedrooms_amsterdam</th>\n",
       "      <th>surface_amsterdam</th>\n",
       "    </tr>\n",
       "  </thead>\n",
       "  <tbody>\n",
       "    <tr>\n",
       "      <th>0</th>\n",
       "      <td>0</td>\n",
       "      <td>2750.0</td>\n",
       "      <td>Out Amsterdam</td>\n",
       "      <td>1078JP</td>\n",
       "      <td>4</td>\n",
       "      <td>129</td>\n",
       "    </tr>\n",
       "    <tr>\n",
       "      <th>1</th>\n",
       "      <td>1</td>\n",
       "      <td>1350.0</td>\n",
       "      <td>Hevesta Bemiddeling</td>\n",
       "      <td>1055MR</td>\n",
       "      <td>1</td>\n",
       "      <td>37</td>\n",
       "    </tr>\n",
       "    <tr>\n",
       "      <th>2</th>\n",
       "      <td>2</td>\n",
       "      <td>2000.0</td>\n",
       "      <td>ViaDaan</td>\n",
       "      <td>1082TC</td>\n",
       "      <td>3</td>\n",
       "      <td>75</td>\n",
       "    </tr>\n",
       "    <tr>\n",
       "      <th>3</th>\n",
       "      <td>3</td>\n",
       "      <td>1700.0</td>\n",
       "      <td>Expats. Amsterdam Rentals</td>\n",
       "      <td>1072NN</td>\n",
       "      <td>3</td>\n",
       "      <td>55</td>\n",
       "    </tr>\n",
       "    <tr>\n",
       "      <th>4</th>\n",
       "      <td>4</td>\n",
       "      <td>1400.0</td>\n",
       "      <td>Hoofdstad Makelaars</td>\n",
       "      <td>1106CW</td>\n",
       "      <td>3</td>\n",
       "      <td>75</td>\n",
       "    </tr>\n",
       "  </tbody>\n",
       "</table>\n",
       "</div>"
      ],
      "text/plain": [
       "   Unnamed: 0  house_price_amsterdam     rental_agency_amsterdam  \\\n",
       "0           0                 2750.0               Out Amsterdam   \n",
       "1           1                 1350.0         Hevesta Bemiddeling   \n",
       "2           2                 2000.0                     ViaDaan   \n",
       "3           3                 1700.0  Expats. Amsterdam Rentals    \n",
       "4           4                 1400.0         Hoofdstad Makelaars   \n",
       "\n",
       "  postcode_amsterdam  bedrooms_amsterdam  surface_amsterdam  \n",
       "0             1078JP                   4                129  \n",
       "1             1055MR                   1                 37  \n",
       "2             1082TC                   3                 75  \n",
       "3             1072NN                   3                 55  \n",
       "4             1106CW                   3                 75  "
      ]
     },
     "execution_count": 2,
     "metadata": {},
     "output_type": "execute_result"
    }
   ],
   "source": [
    "adam = pd.read_csv('..\\\\data\\\\rental_data_amsterdam_final.csv')\n",
    "\n",
    "#Inspect data\n",
    "adam.head()"
   ]
  },
  {
   "cell_type": "code",
   "execution_count": 3,
   "metadata": {},
   "outputs": [
    {
     "data": {
      "text/html": [
       "<div>\n",
       "<style scoped>\n",
       "    .dataframe tbody tr th:only-of-type {\n",
       "        vertical-align: middle;\n",
       "    }\n",
       "\n",
       "    .dataframe tbody tr th {\n",
       "        vertical-align: top;\n",
       "    }\n",
       "\n",
       "    .dataframe thead th {\n",
       "        text-align: right;\n",
       "    }\n",
       "</style>\n",
       "<table border=\"1\" class=\"dataframe\">\n",
       "  <thead>\n",
       "    <tr style=\"text-align: right;\">\n",
       "      <th></th>\n",
       "      <th>rental_price</th>\n",
       "      <th>rental_agency</th>\n",
       "      <th>postcode</th>\n",
       "      <th>bedrooms</th>\n",
       "      <th>surface</th>\n",
       "    </tr>\n",
       "  </thead>\n",
       "  <tbody>\n",
       "    <tr>\n",
       "      <th>0</th>\n",
       "      <td>2750.0</td>\n",
       "      <td>Out Amsterdam</td>\n",
       "      <td>1078JP</td>\n",
       "      <td>4</td>\n",
       "      <td>129</td>\n",
       "    </tr>\n",
       "    <tr>\n",
       "      <th>1</th>\n",
       "      <td>1350.0</td>\n",
       "      <td>Hevesta Bemiddeling</td>\n",
       "      <td>1055MR</td>\n",
       "      <td>1</td>\n",
       "      <td>37</td>\n",
       "    </tr>\n",
       "    <tr>\n",
       "      <th>2</th>\n",
       "      <td>2000.0</td>\n",
       "      <td>ViaDaan</td>\n",
       "      <td>1082TC</td>\n",
       "      <td>3</td>\n",
       "      <td>75</td>\n",
       "    </tr>\n",
       "    <tr>\n",
       "      <th>3</th>\n",
       "      <td>1700.0</td>\n",
       "      <td>Expats. Amsterdam Rentals</td>\n",
       "      <td>1072NN</td>\n",
       "      <td>3</td>\n",
       "      <td>55</td>\n",
       "    </tr>\n",
       "    <tr>\n",
       "      <th>4</th>\n",
       "      <td>1400.0</td>\n",
       "      <td>Hoofdstad Makelaars</td>\n",
       "      <td>1106CW</td>\n",
       "      <td>3</td>\n",
       "      <td>75</td>\n",
       "    </tr>\n",
       "  </tbody>\n",
       "</table>\n",
       "</div>"
      ],
      "text/plain": [
       "   rental_price               rental_agency postcode  bedrooms  surface\n",
       "0        2750.0               Out Amsterdam   1078JP         4      129\n",
       "1        1350.0         Hevesta Bemiddeling   1055MR         1       37\n",
       "2        2000.0                     ViaDaan   1082TC         3       75\n",
       "3        1700.0  Expats. Amsterdam Rentals    1072NN         3       55\n",
       "4        1400.0         Hoofdstad Makelaars   1106CW         3       75"
      ]
     },
     "execution_count": 3,
     "metadata": {},
     "output_type": "execute_result"
    }
   ],
   "source": [
    "#Transform columns\n",
    "adam = adam.rename(columns={\"house_price_amsterdam\": \"rental_price\", \"rental_agency_amsterdam\": \"rental_agency\", \"postcode_amsterdam\": \"postcode\", \"bedrooms_amsterdam\": \"bedrooms\", \"surface_amsterdam\": \"surface\"})\n",
    "adam = adam.drop('Unnamed: 0', axis=1)\n",
    "adam.head()"
   ]
  },
  {
   "cell_type": "code",
   "execution_count": 4,
   "metadata": {},
   "outputs": [],
   "source": [
    "#Inspect NaN values\n",
    "null_cols_adam = adam.isnull().sum()\n",
    "null_cols_adam[null_cols_adam > 0]\n",
    "\n",
    "#Exclude NaN values\n",
    "adam = adam.dropna(axis=0)"
   ]
  },
  {
   "cell_type": "code",
   "execution_count": 5,
   "metadata": {},
   "outputs": [
    {
     "data": {
      "text/plain": [
       "rental_price     2652\n",
       "rental_agency    2652\n",
       "postcode         2652\n",
       "bedrooms         2652\n",
       "surface          2652\n",
       "dtype: int64"
      ]
     },
     "execution_count": 5,
     "metadata": {},
     "output_type": "execute_result"
    }
   ],
   "source": [
    "adam.count()"
   ]
  },
  {
   "cell_type": "code",
   "execution_count": 56,
   "metadata": {},
   "outputs": [
    {
     "name": "stdout",
     "output_type": "stream",
     "text": [
      "Number of duplicate records dropped:  0\n"
     ]
    },
    {
     "data": {
      "text/plain": [
       "rental_price     2452\n",
       "rental_agency    2452\n",
       "postcode         2452\n",
       "bedrooms         2452\n",
       "surface          2452\n",
       "dtype: int64"
      ]
     },
     "execution_count": 56,
     "metadata": {},
     "output_type": "execute_result"
    }
   ],
   "source": [
    "#Check for duplicates\n",
    "before = len(adam)\n",
    "adam = adam.drop_duplicates()\n",
    "after = len(adam)\n",
    "print('Number of duplicate records dropped: ', str(before - after))\n",
    "adam.count()"
   ]
  },
  {
   "cell_type": "markdown",
   "metadata": {},
   "source": [
    "## Join with postalcodes"
   ]
  },
  {
   "cell_type": "code",
   "execution_count": 49,
   "metadata": {},
   "outputs": [
    {
     "data": {
      "text/html": [
       "<div>\n",
       "<style scoped>\n",
       "    .dataframe tbody tr th:only-of-type {\n",
       "        vertical-align: middle;\n",
       "    }\n",
       "\n",
       "    .dataframe tbody tr th {\n",
       "        vertical-align: top;\n",
       "    }\n",
       "\n",
       "    .dataframe thead th {\n",
       "        text-align: right;\n",
       "    }\n",
       "</style>\n",
       "<table border=\"1\" class=\"dataframe\">\n",
       "  <thead>\n",
       "    <tr style=\"text-align: right;\">\n",
       "      <th></th>\n",
       "      <th>Postalcode</th>\n",
       "      <th>Housenumber</th>\n",
       "      <th>Neighbourhood2019</th>\n",
       "      <th>Name_neighbourhood</th>\n",
       "      <th>District2019</th>\n",
       "      <th>Name_district</th>\n",
       "      <th>Municipality2019</th>\n",
       "      <th>Name_municipality</th>\n",
       "    </tr>\n",
       "  </thead>\n",
       "  <tbody>\n",
       "    <tr>\n",
       "      <th>0</th>\n",
       "      <td>1011AB</td>\n",
       "      <td>105</td>\n",
       "      <td>3630400</td>\n",
       "      <td>Oosterdokseiland</td>\n",
       "      <td>36304</td>\n",
       "      <td>Nieuwmarkt/Lastage</td>\n",
       "      <td>363</td>\n",
       "      <td>Amsterdam</td>\n",
       "    </tr>\n",
       "    <tr>\n",
       "      <th>1</th>\n",
       "      <td>1011AB</td>\n",
       "      <td>106</td>\n",
       "      <td>3630400</td>\n",
       "      <td>Oosterdokseiland</td>\n",
       "      <td>36304</td>\n",
       "      <td>Nieuwmarkt/Lastage</td>\n",
       "      <td>363</td>\n",
       "      <td>Amsterdam</td>\n",
       "    </tr>\n",
       "    <tr>\n",
       "      <th>2</th>\n",
       "      <td>1011AB</td>\n",
       "      <td>107</td>\n",
       "      <td>3630400</td>\n",
       "      <td>Oosterdokseiland</td>\n",
       "      <td>36304</td>\n",
       "      <td>Nieuwmarkt/Lastage</td>\n",
       "      <td>363</td>\n",
       "      <td>Amsterdam</td>\n",
       "    </tr>\n",
       "    <tr>\n",
       "      <th>3</th>\n",
       "      <td>1011AB</td>\n",
       "      <td>110</td>\n",
       "      <td>3630400</td>\n",
       "      <td>Oosterdokseiland</td>\n",
       "      <td>36304</td>\n",
       "      <td>Nieuwmarkt/Lastage</td>\n",
       "      <td>363</td>\n",
       "      <td>Amsterdam</td>\n",
       "    </tr>\n",
       "    <tr>\n",
       "      <th>4</th>\n",
       "      <td>1011AB</td>\n",
       "      <td>112</td>\n",
       "      <td>3630400</td>\n",
       "      <td>Oosterdokseiland</td>\n",
       "      <td>36304</td>\n",
       "      <td>Nieuwmarkt/Lastage</td>\n",
       "      <td>363</td>\n",
       "      <td>Amsterdam</td>\n",
       "    </tr>\n",
       "  </tbody>\n",
       "</table>\n",
       "</div>"
      ],
      "text/plain": [
       "  Postalcode  Housenumber  Neighbourhood2019 Name_neighbourhood  District2019  \\\n",
       "0     1011AB          105            3630400   Oosterdokseiland         36304   \n",
       "1     1011AB          106            3630400   Oosterdokseiland         36304   \n",
       "2     1011AB          107            3630400   Oosterdokseiland         36304   \n",
       "3     1011AB          110            3630400   Oosterdokseiland         36304   \n",
       "4     1011AB          112            3630400   Oosterdokseiland         36304   \n",
       "\n",
       "        Name_district  Municipality2019 Name_municipality  \n",
       "0  Nieuwmarkt/Lastage               363         Amsterdam  \n",
       "1  Nieuwmarkt/Lastage               363         Amsterdam  \n",
       "2  Nieuwmarkt/Lastage               363         Amsterdam  \n",
       "3  Nieuwmarkt/Lastage               363         Amsterdam  \n",
       "4  Nieuwmarkt/Lastage               363         Amsterdam  "
      ]
     },
     "execution_count": 49,
     "metadata": {},
     "output_type": "execute_result"
    }
   ],
   "source": [
    "#Import dataset\n",
    "postalcodes = pd.read_excel('..\\\\data\\\\Postalcodes_translation.xlsx')\n",
    "postalcodes.head()"
   ]
  },
  {
   "cell_type": "code",
   "execution_count": 50,
   "metadata": {},
   "outputs": [],
   "source": [
    "# Postalcodes select Amsterdam & remove column housenumber\n",
    "postalcodes = postalcodes.loc[postalcodes['Name_municipality'] == 'Amsterdam']\n",
    "postalcodes = postalcodes.drop('Housenumber', axis=1)"
   ]
  },
  {
   "cell_type": "code",
   "execution_count": 51,
   "metadata": {},
   "outputs": [
    {
     "data": {
      "text/html": [
       "<div>\n",
       "<style scoped>\n",
       "    .dataframe tbody tr th:only-of-type {\n",
       "        vertical-align: middle;\n",
       "    }\n",
       "\n",
       "    .dataframe tbody tr th {\n",
       "        vertical-align: top;\n",
       "    }\n",
       "\n",
       "    .dataframe thead th {\n",
       "        text-align: right;\n",
       "    }\n",
       "</style>\n",
       "<table border=\"1\" class=\"dataframe\">\n",
       "  <thead>\n",
       "    <tr style=\"text-align: right;\">\n",
       "      <th></th>\n",
       "      <th>postcode</th>\n",
       "      <th>Neighbourhood2019</th>\n",
       "      <th>Name_neighbourhood</th>\n",
       "      <th>District2019</th>\n",
       "      <th>Name_district</th>\n",
       "      <th>Municipality2019</th>\n",
       "      <th>Name_municipality</th>\n",
       "    </tr>\n",
       "  </thead>\n",
       "  <tbody>\n",
       "    <tr>\n",
       "      <th>0</th>\n",
       "      <td>1011AB</td>\n",
       "      <td>3630400</td>\n",
       "      <td>Oosterdokseiland</td>\n",
       "      <td>36304</td>\n",
       "      <td>Nieuwmarkt/Lastage</td>\n",
       "      <td>363</td>\n",
       "      <td>Amsterdam</td>\n",
       "    </tr>\n",
       "    <tr>\n",
       "      <th>1</th>\n",
       "      <td>1011AB</td>\n",
       "      <td>3630400</td>\n",
       "      <td>Oosterdokseiland</td>\n",
       "      <td>36304</td>\n",
       "      <td>Nieuwmarkt/Lastage</td>\n",
       "      <td>363</td>\n",
       "      <td>Amsterdam</td>\n",
       "    </tr>\n",
       "    <tr>\n",
       "      <th>2</th>\n",
       "      <td>1011AB</td>\n",
       "      <td>3630400</td>\n",
       "      <td>Oosterdokseiland</td>\n",
       "      <td>36304</td>\n",
       "      <td>Nieuwmarkt/Lastage</td>\n",
       "      <td>363</td>\n",
       "      <td>Amsterdam</td>\n",
       "    </tr>\n",
       "    <tr>\n",
       "      <th>3</th>\n",
       "      <td>1011AB</td>\n",
       "      <td>3630400</td>\n",
       "      <td>Oosterdokseiland</td>\n",
       "      <td>36304</td>\n",
       "      <td>Nieuwmarkt/Lastage</td>\n",
       "      <td>363</td>\n",
       "      <td>Amsterdam</td>\n",
       "    </tr>\n",
       "    <tr>\n",
       "      <th>4</th>\n",
       "      <td>1011AB</td>\n",
       "      <td>3630400</td>\n",
       "      <td>Oosterdokseiland</td>\n",
       "      <td>36304</td>\n",
       "      <td>Nieuwmarkt/Lastage</td>\n",
       "      <td>363</td>\n",
       "      <td>Amsterdam</td>\n",
       "    </tr>\n",
       "  </tbody>\n",
       "</table>\n",
       "</div>"
      ],
      "text/plain": [
       "  postcode  Neighbourhood2019 Name_neighbourhood  District2019  \\\n",
       "0   1011AB            3630400   Oosterdokseiland         36304   \n",
       "1   1011AB            3630400   Oosterdokseiland         36304   \n",
       "2   1011AB            3630400   Oosterdokseiland         36304   \n",
       "3   1011AB            3630400   Oosterdokseiland         36304   \n",
       "4   1011AB            3630400   Oosterdokseiland         36304   \n",
       "\n",
       "        Name_district  Municipality2019 Name_municipality  \n",
       "0  Nieuwmarkt/Lastage               363         Amsterdam  \n",
       "1  Nieuwmarkt/Lastage               363         Amsterdam  \n",
       "2  Nieuwmarkt/Lastage               363         Amsterdam  \n",
       "3  Nieuwmarkt/Lastage               363         Amsterdam  \n",
       "4  Nieuwmarkt/Lastage               363         Amsterdam  "
      ]
     },
     "execution_count": 51,
     "metadata": {},
     "output_type": "execute_result"
    }
   ],
   "source": [
    "#Rename columns for joining\n",
    "postalcodes = postalcodes.rename(columns={\"Postalcode\": \"postcode\"})\n",
    "postalcodes.head()"
   ]
  },
  {
   "cell_type": "code",
   "execution_count": 61,
   "metadata": {},
   "outputs": [
    {
     "data": {
      "text/plain": [
       "rental_price          94441\n",
       "rental_agency         94441\n",
       "postcode              94441\n",
       "bedrooms              94441\n",
       "surface               94441\n",
       "Neighbourhood2019     94441\n",
       "Name_neighbourhood    94441\n",
       "District2019          94441\n",
       "Name_district         94441\n",
       "Municipality2019      94441\n",
       "Name_municipality     94441\n",
       "dtype: int64"
      ]
     },
     "execution_count": 61,
     "metadata": {},
     "output_type": "execute_result"
    }
   ],
   "source": [
    "# Joining databases\n",
    "adam_postalcodes = adam.merge(postalcodes, on='postcode', how='left')\n",
    "\n",
    "# Inspect new database\n",
    "adam_postalcodes.head()\n",
    "\n",
    "#Number of rows\n",
    "adam_postalcodes.count()"
   ]
  },
  {
   "cell_type": "code",
   "execution_count": 97,
   "metadata": {},
   "outputs": [
    {
     "name": "stdout",
     "output_type": "stream",
     "text": [
      "Number of duplicate records dropped:  0\n"
     ]
    },
    {
     "data": {
      "text/plain": [
       "rental_price          2598\n",
       "rental_agency         2598\n",
       "postcode              2598\n",
       "bedrooms              2598\n",
       "surface               2598\n",
       "Neighbourhood2019     2598\n",
       "Name_neighbourhood    2598\n",
       "District2019          2598\n",
       "Name_district         2598\n",
       "Municipality2019      2598\n",
       "Name_municipality     2598\n",
       "dtype: int64"
      ]
     },
     "execution_count": 97,
     "metadata": {},
     "output_type": "execute_result"
    }
   ],
   "source": [
    "#Removing duplicates\n",
    "before = len(adam_postalcodes)\n",
    "adam_postalcodes = adam_postalcodes.drop_duplicates()\n",
    "after = len(adam_postalcodes)\n",
    "print('Number of duplicate records dropped: ', str(before - after))\n",
    "adam_postalcodes.count()"
   ]
  },
  {
   "cell_type": "code",
   "execution_count": 98,
   "metadata": {},
   "outputs": [
    {
     "data": {
      "text/plain": [
       "Series([], dtype: int64)"
      ]
     },
     "execution_count": 98,
     "metadata": {},
     "output_type": "execute_result"
    }
   ],
   "source": [
    "#Inspect NaN values\n",
    "null_cols_adam_postalcodes = adam_postalcodes.isnull().sum()\n",
    "null_cols_adam_postalcodes[null_cols_adam_postalcodes > 0]"
   ]
  },
  {
   "cell_type": "markdown",
   "metadata": {},
   "source": [
    "## Analysis"
   ]
  },
  {
   "cell_type": "markdown",
   "metadata": {},
   "source": [
    "### Correlation between postalcodes and surface"
   ]
  },
  {
   "cell_type": "code",
   "execution_count": 99,
   "metadata": {},
   "outputs": [],
   "source": [
    "# Data types: \n",
    "    #surface = ratio; \n",
    "    #bedrooms = ordinal;\n",
    "    #rental_price = ratio;\n",
    "    #Name_neighbourhood = nominal.\n",
    "    \n",
    "#Correlation between Name_neighbourhood and surface = nominal vs ratio"
   ]
  },
  {
   "cell_type": "code",
   "execution_count": 100,
   "metadata": {},
   "outputs": [
    {
     "data": {
      "text/plain": [
       "array([[<matplotlib.axes._subplots.AxesSubplot object at 0x12542328>,\n",
       "        <matplotlib.axes._subplots.AxesSubplot object at 0x10BC3730>],\n",
       "       [<matplotlib.axes._subplots.AxesSubplot object at 0x11467B38>,\n",
       "        <matplotlib.axes._subplots.AxesSubplot object at 0x10FDFEE0>]],\n",
       "      dtype=object)"
      ]
     },
     "execution_count": 100,
     "metadata": {},
     "output_type": "execute_result"
    },
    {
     "data": {
      "text/plain": [
       "<Figure size 1008x504 with 0 Axes>"
      ]
     },
     "metadata": {},
     "output_type": "display_data"
    },
    {
     "data": {
      "image/png": "[encoded data removed]",
      "text/plain": [
       "<Figure size 432x288 with 4 Axes>"
      ]
     },
     "metadata": {
      "needs_background": "light"
     },
     "output_type": "display_data"
    }
   ],
   "source": [
    "# Data doesn't look normally distributed\n",
    "plt.figure(figsize=(14,7))\n",
    "adam_postalcodes[['bedrooms', 'rental_price', 'surface']].hist(bins=100)"
   ]
  },
  {
   "cell_type": "code",
   "execution_count": 101,
   "metadata": {},
   "outputs": [],
   "source": [
    "# Assumptions for correlation:\n",
    "    # Use spearman rank correlation:\n",
    "        # because you can use it with data of an (at least) ordinal scale\n",
    "        # data doens't have to be normally distributed\n",
    "\n",
    "#Hypothesis: postalcodes in the periphery have houses with a bigger surface "
   ]
  },
  {
   "cell_type": "code",
   "execution_count": 106,
   "metadata": {},
   "outputs": [],
   "source": [
    "adam_bed_mean = adam_postalcodes[['Name_neighbourhood','bedrooms']].groupby('Name_neighbourhood').mean()"
   ]
  },
  {
   "cell_type": "code",
   "execution_count": 110,
   "metadata": {},
   "outputs": [
    {
     "data": {
      "text/html": [
       "<div>\n",
       "<style scoped>\n",
       "    .dataframe tbody tr th:only-of-type {\n",
       "        vertical-align: middle;\n",
       "    }\n",
       "\n",
       "    .dataframe tbody tr th {\n",
       "        vertical-align: top;\n",
       "    }\n",
       "\n",
       "    .dataframe thead th {\n",
       "        text-align: right;\n",
       "    }\n",
       "</style>\n",
       "<table border=\"1\" class=\"dataframe\">\n",
       "  <thead>\n",
       "    <tr style=\"text-align: right;\">\n",
       "      <th></th>\n",
       "      <th>bedrooms</th>\n",
       "    </tr>\n",
       "    <tr>\n",
       "      <th>Name_neighbourhood</th>\n",
       "      <th></th>\n",
       "    </tr>\n",
       "  </thead>\n",
       "  <tbody>\n",
       "    <tr>\n",
       "      <th>Diepenbrockbuurt</th>\n",
       "      <td>5.200</td>\n",
       "    </tr>\n",
       "    <tr>\n",
       "      <th>Emanuel van Meterenbuurt</th>\n",
       "      <td>5.000</td>\n",
       "    </tr>\n",
       "    <tr>\n",
       "      <th>Westhaven Noord</th>\n",
       "      <td>5.000</td>\n",
       "    </tr>\n",
       "    <tr>\n",
       "      <th>Gein Zuidwest</th>\n",
       "      <td>5.000</td>\n",
       "    </tr>\n",
       "    <tr>\n",
       "      <th>Buurt 9</th>\n",
       "      <td>5.000</td>\n",
       "    </tr>\n",
       "    <tr>\n",
       "      <th>...</th>\n",
       "      <td>...</td>\n",
       "    </tr>\n",
       "    <tr>\n",
       "      <th>Robert Scottbuurt West</th>\n",
       "      <td>1.875</td>\n",
       "    </tr>\n",
       "    <tr>\n",
       "      <th>Reigersbos Noord</th>\n",
       "      <td>1.500</td>\n",
       "    </tr>\n",
       "    <tr>\n",
       "      <th>Teleport</th>\n",
       "      <td>1.500</td>\n",
       "    </tr>\n",
       "    <tr>\n",
       "      <th>Bijlmermuseum Noord</th>\n",
       "      <td>1.000</td>\n",
       "    </tr>\n",
       "    <tr>\n",
       "      <th>Amstel III deel A/B Noord</th>\n",
       "      <td>1.000</td>\n",
       "    </tr>\n",
       "  </tbody>\n",
       "</table>\n",
       "<p>331 rows × 1 columns</p>\n",
       "</div>"
      ],
      "text/plain": [
       "                           bedrooms\n",
       "Name_neighbourhood                 \n",
       "Diepenbrockbuurt              5.200\n",
       "Emanuel van Meterenbuurt      5.000\n",
       "Westhaven Noord               5.000\n",
       "Gein Zuidwest                 5.000\n",
       "Buurt 9                       5.000\n",
       "...                             ...\n",
       "Robert Scottbuurt West        1.875\n",
       "Reigersbos Noord              1.500\n",
       "Teleport                      1.500\n",
       "Bijlmermuseum Noord           1.000\n",
       "Amstel III deel A/B Noord     1.000\n",
       "\n",
       "[331 rows x 1 columns]"
      ]
     },
     "execution_count": 110,
     "metadata": {},
     "output_type": "execute_result"
    }
   ],
   "source": [
    "adam_bed_mean.sort_values('bedrooms', ascending=False)"
   ]
  }
 ],
 "metadata": {
  "kernelspec": {
   "display_name": "Python 3",
   "language": "python",
   "name": "python3"
  },
  "language_info": {
   "codemirror_mode": {
    "name": "ipython",
    "version": 3
   },
   "file_extension": ".py",
   "mimetype": "text/x-python",
   "name": "python",
   "nbconvert_exporter": "python",
   "pygments_lexer": "ipython3",
   "version": "3.8.3"
  }
 },
 "nbformat": 4,
 "nbformat_minor": 4
}
