{
 "cells": [
  {
   "cell_type": "markdown",
   "metadata": {},
   "source": [
    "Importing library"
   ]
  },
  {
   "cell_type": "code",
   "execution_count": 2,
   "metadata": {},
   "outputs": [],
   "source": [
    "import pandas as pd\n",
    "import numpy as np\n"
   ]
  },
  {
   "cell_type": "markdown",
   "metadata": {},
   "source": [
    "Reading data from the files"
   ]
  },
  {
   "cell_type": "code",
   "execution_count": 4,
   "metadata": {},
   "outputs": [],
   "source": [
    "data_amsterdam = pd.read_csv((\"../data/rental_data_amsterdam_final.csv\"),index_col=0)\n",
    "data_utrecht = pd.read_csv((\"../data/rental_data_utrecht_final.csv\"),index_col=0)\n",
    "data_rotterdam = pd.read_csv((\"../data/rental_data_rotterdam_final.csv\"),index_col=0)\n",
    "postal_codes= pd.read_csv(\"../data/postalcodes_translation.csv\",sep=\";\")\n"
   ]
  },
  {
   "cell_type": "markdown",
   "metadata": {},
   "source": [
    "Deleting columns not required in analysis"
   ]
  },
  {
   "cell_type": "code",
   "execution_count": 5,
   "metadata": {},
   "outputs": [
    {
     "data": {
      "text/html": [
       "<div>\n",
       "<style scoped>\n",
       "    .dataframe tbody tr th:only-of-type {\n",
       "        vertical-align: middle;\n",
       "    }\n",
       "\n",
       "    .dataframe tbody tr th {\n",
       "        vertical-align: top;\n",
       "    }\n",
       "\n",
       "    .dataframe thead th {\n",
       "        text-align: right;\n",
       "    }\n",
       "</style>\n",
       "<table border=\"1\" class=\"dataframe\">\n",
       "  <thead>\n",
       "    <tr style=\"text-align: right;\">\n",
       "      <th></th>\n",
       "      <th>Postalcode</th>\n",
       "      <th>Neighbourhood2019</th>\n",
       "      <th>Name_neighbourhood</th>\n",
       "      <th>District2019</th>\n",
       "      <th>Name_district</th>\n",
       "      <th>Municipality2019</th>\n",
       "      <th>Name_municipality</th>\n",
       "    </tr>\n",
       "  </thead>\n",
       "  <tbody>\n",
       "    <tr>\n",
       "      <th>0</th>\n",
       "      <td>1011AB</td>\n",
       "      <td>3630400</td>\n",
       "      <td>Oosterdokseiland</td>\n",
       "      <td>36304</td>\n",
       "      <td>Nieuwmarkt/Lastage</td>\n",
       "      <td>363</td>\n",
       "      <td>Amsterdam</td>\n",
       "    </tr>\n",
       "    <tr>\n",
       "      <th>1</th>\n",
       "      <td>1011AB</td>\n",
       "      <td>3630400</td>\n",
       "      <td>Oosterdokseiland</td>\n",
       "      <td>36304</td>\n",
       "      <td>Nieuwmarkt/Lastage</td>\n",
       "      <td>363</td>\n",
       "      <td>Amsterdam</td>\n",
       "    </tr>\n",
       "    <tr>\n",
       "      <th>2</th>\n",
       "      <td>1011AB</td>\n",
       "      <td>3630400</td>\n",
       "      <td>Oosterdokseiland</td>\n",
       "      <td>36304</td>\n",
       "      <td>Nieuwmarkt/Lastage</td>\n",
       "      <td>363</td>\n",
       "      <td>Amsterdam</td>\n",
       "    </tr>\n",
       "    <tr>\n",
       "      <th>3</th>\n",
       "      <td>1011AB</td>\n",
       "      <td>3630400</td>\n",
       "      <td>Oosterdokseiland</td>\n",
       "      <td>36304</td>\n",
       "      <td>Nieuwmarkt/Lastage</td>\n",
       "      <td>363</td>\n",
       "      <td>Amsterdam</td>\n",
       "    </tr>\n",
       "    <tr>\n",
       "      <th>4</th>\n",
       "      <td>1011AB</td>\n",
       "      <td>3630400</td>\n",
       "      <td>Oosterdokseiland</td>\n",
       "      <td>36304</td>\n",
       "      <td>Nieuwmarkt/Lastage</td>\n",
       "      <td>363</td>\n",
       "      <td>Amsterdam</td>\n",
       "    </tr>\n",
       "  </tbody>\n",
       "</table>\n",
       "</div>"
      ],
      "text/plain": [
       "  Postalcode  Neighbourhood2019 Name_neighbourhood  District2019  \\\n",
       "0     1011AB            3630400   Oosterdokseiland         36304   \n",
       "1     1011AB            3630400   Oosterdokseiland         36304   \n",
       "2     1011AB            3630400   Oosterdokseiland         36304   \n",
       "3     1011AB            3630400   Oosterdokseiland         36304   \n",
       "4     1011AB            3630400   Oosterdokseiland         36304   \n",
       "\n",
       "        Name_district  Municipality2019 Name_municipality  \n",
       "0  Nieuwmarkt/Lastage               363         Amsterdam  \n",
       "1  Nieuwmarkt/Lastage               363         Amsterdam  \n",
       "2  Nieuwmarkt/Lastage               363         Amsterdam  \n",
       "3  Nieuwmarkt/Lastage               363         Amsterdam  \n",
       "4  Nieuwmarkt/Lastage               363         Amsterdam  "
      ]
     },
     "execution_count": 5,
     "metadata": {},
     "output_type": "execute_result"
    }
   ],
   "source": [
    "del postal_codes['Housenumber']\n",
    "postal_codes.head()"
   ]
  },
  {
   "cell_type": "markdown",
   "metadata": {},
   "source": [
    "Deleting postcodes that are repeated multiple times"
   ]
  },
  {
   "cell_type": "code",
   "execution_count": 6,
   "metadata": {},
   "outputs": [],
   "source": [
    "postal_codes=postal_codes.drop_duplicates()"
   ]
  },
  {
   "cell_type": "code",
   "execution_count": 7,
   "metadata": {},
   "outputs": [
    {
     "data": {
      "text/html": [
       "<div>\n",
       "<style scoped>\n",
       "    .dataframe tbody tr th:only-of-type {\n",
       "        vertical-align: middle;\n",
       "    }\n",
       "\n",
       "    .dataframe tbody tr th {\n",
       "        vertical-align: top;\n",
       "    }\n",
       "\n",
       "    .dataframe thead th {\n",
       "        text-align: right;\n",
       "    }\n",
       "</style>\n",
       "<table border=\"1\" class=\"dataframe\">\n",
       "  <thead>\n",
       "    <tr style=\"text-align: right;\">\n",
       "      <th></th>\n",
       "      <th>Postalcode</th>\n",
       "      <th>Neighbourhood2019</th>\n",
       "      <th>Name_neighbourhood</th>\n",
       "      <th>District2019</th>\n",
       "      <th>Name_district</th>\n",
       "      <th>Municipality2019</th>\n",
       "      <th>Name_municipality</th>\n",
       "    </tr>\n",
       "  </thead>\n",
       "  <tbody>\n",
       "    <tr>\n",
       "      <th>0</th>\n",
       "      <td>1011AB</td>\n",
       "      <td>3630400</td>\n",
       "      <td>Oosterdokseiland</td>\n",
       "      <td>36304</td>\n",
       "      <td>Nieuwmarkt/Lastage</td>\n",
       "      <td>363</td>\n",
       "      <td>Amsterdam</td>\n",
       "    </tr>\n",
       "    <tr>\n",
       "      <th>8</th>\n",
       "      <td>1011AC</td>\n",
       "      <td>3630400</td>\n",
       "      <td>Oosterdokseiland</td>\n",
       "      <td>36304</td>\n",
       "      <td>Nieuwmarkt/Lastage</td>\n",
       "      <td>363</td>\n",
       "      <td>Amsterdam</td>\n",
       "    </tr>\n",
       "    <tr>\n",
       "      <th>24</th>\n",
       "      <td>1011AD</td>\n",
       "      <td>3630400</td>\n",
       "      <td>Oosterdokseiland</td>\n",
       "      <td>36304</td>\n",
       "      <td>Nieuwmarkt/Lastage</td>\n",
       "      <td>363</td>\n",
       "      <td>Amsterdam</td>\n",
       "    </tr>\n",
       "    <tr>\n",
       "      <th>26</th>\n",
       "      <td>1011AE</td>\n",
       "      <td>3630400</td>\n",
       "      <td>Oosterdokseiland</td>\n",
       "      <td>36304</td>\n",
       "      <td>Nieuwmarkt/Lastage</td>\n",
       "      <td>363</td>\n",
       "      <td>Amsterdam</td>\n",
       "    </tr>\n",
       "    <tr>\n",
       "      <th>30</th>\n",
       "      <td>1011AG</td>\n",
       "      <td>3630403</td>\n",
       "      <td>Lastage</td>\n",
       "      <td>36304</td>\n",
       "      <td>Nieuwmarkt/Lastage</td>\n",
       "      <td>363</td>\n",
       "      <td>Amsterdam</td>\n",
       "    </tr>\n",
       "  </tbody>\n",
       "</table>\n",
       "</div>"
      ],
      "text/plain": [
       "   Postalcode  Neighbourhood2019 Name_neighbourhood  District2019  \\\n",
       "0      1011AB            3630400   Oosterdokseiland         36304   \n",
       "8      1011AC            3630400   Oosterdokseiland         36304   \n",
       "24     1011AD            3630400   Oosterdokseiland         36304   \n",
       "26     1011AE            3630400   Oosterdokseiland         36304   \n",
       "30     1011AG            3630403            Lastage         36304   \n",
       "\n",
       "         Name_district  Municipality2019 Name_municipality  \n",
       "0   Nieuwmarkt/Lastage               363         Amsterdam  \n",
       "8   Nieuwmarkt/Lastage               363         Amsterdam  \n",
       "24  Nieuwmarkt/Lastage               363         Amsterdam  \n",
       "26  Nieuwmarkt/Lastage               363         Amsterdam  \n",
       "30  Nieuwmarkt/Lastage               363         Amsterdam  "
      ]
     },
     "execution_count": 7,
     "metadata": {},
     "output_type": "execute_result"
    }
   ],
   "source": [
    "postal_codes.head()"
   ]
  },
  {
   "cell_type": "markdown",
   "metadata": {},
   "source": [
    "Steps to merge two dataframe"
   ]
  },
  {
   "cell_type": "code",
   "execution_count": 8,
   "metadata": {},
   "outputs": [
    {
     "data": {
      "text/html": [
       "<div>\n",
       "<style scoped>\n",
       "    .dataframe tbody tr th:only-of-type {\n",
       "        vertical-align: middle;\n",
       "    }\n",
       "\n",
       "    .dataframe tbody tr th {\n",
       "        vertical-align: top;\n",
       "    }\n",
       "\n",
       "    .dataframe thead th {\n",
       "        text-align: right;\n",
       "    }\n",
       "</style>\n",
       "<table border=\"1\" class=\"dataframe\">\n",
       "  <thead>\n",
       "    <tr style=\"text-align: right;\">\n",
       "      <th></th>\n",
       "      <th>house_price_amsterdam</th>\n",
       "      <th>rental_agency_amsterdam</th>\n",
       "      <th>Postalcode</th>\n",
       "      <th>bedrooms_amsterdam</th>\n",
       "      <th>surface_amsterdam</th>\n",
       "    </tr>\n",
       "  </thead>\n",
       "  <tbody>\n",
       "    <tr>\n",
       "      <th>0</th>\n",
       "      <td>2750.0</td>\n",
       "      <td>Out Amsterdam</td>\n",
       "      <td>1078JP</td>\n",
       "      <td>4</td>\n",
       "      <td>129</td>\n",
       "    </tr>\n",
       "    <tr>\n",
       "      <th>1</th>\n",
       "      <td>1350.0</td>\n",
       "      <td>Hevesta Bemiddeling</td>\n",
       "      <td>1055MR</td>\n",
       "      <td>1</td>\n",
       "      <td>37</td>\n",
       "    </tr>\n",
       "    <tr>\n",
       "      <th>2</th>\n",
       "      <td>2000.0</td>\n",
       "      <td>ViaDaan</td>\n",
       "      <td>1082TC</td>\n",
       "      <td>3</td>\n",
       "      <td>75</td>\n",
       "    </tr>\n",
       "    <tr>\n",
       "      <th>3</th>\n",
       "      <td>1700.0</td>\n",
       "      <td>Expats. Amsterdam Rentals</td>\n",
       "      <td>1072NN</td>\n",
       "      <td>3</td>\n",
       "      <td>55</td>\n",
       "    </tr>\n",
       "    <tr>\n",
       "      <th>4</th>\n",
       "      <td>1400.0</td>\n",
       "      <td>Hoofdstad Makelaars</td>\n",
       "      <td>1106CW</td>\n",
       "      <td>3</td>\n",
       "      <td>75</td>\n",
       "    </tr>\n",
       "  </tbody>\n",
       "</table>\n",
       "</div>"
      ],
      "text/plain": [
       "   house_price_amsterdam     rental_agency_amsterdam Postalcode  \\\n",
       "0                 2750.0               Out Amsterdam     1078JP   \n",
       "1                 1350.0         Hevesta Bemiddeling     1055MR   \n",
       "2                 2000.0                     ViaDaan     1082TC   \n",
       "3                 1700.0  Expats. Amsterdam Rentals      1072NN   \n",
       "4                 1400.0         Hoofdstad Makelaars     1106CW   \n",
       "\n",
       "   bedrooms_amsterdam  surface_amsterdam  \n",
       "0                   4                129  \n",
       "1                   1                 37  \n",
       "2                   3                 75  \n",
       "3                   3                 55  \n",
       "4                   3                 75  "
      ]
     },
     "execution_count": 8,
     "metadata": {},
     "output_type": "execute_result"
    }
   ],
   "source": [
    "data_amsterdam= data_amsterdam.rename(columns={'postcode_amsterdam': 'Postalcode'})\n",
    "data_amsterdam.head()"
   ]
  },
  {
   "cell_type": "code",
   "execution_count": 9,
   "metadata": {},
   "outputs": [
    {
     "data": {
      "text/html": [
       "<div>\n",
       "<style scoped>\n",
       "    .dataframe tbody tr th:only-of-type {\n",
       "        vertical-align: middle;\n",
       "    }\n",
       "\n",
       "    .dataframe tbody tr th {\n",
       "        vertical-align: top;\n",
       "    }\n",
       "\n",
       "    .dataframe thead th {\n",
       "        text-align: right;\n",
       "    }\n",
       "</style>\n",
       "<table border=\"1\" class=\"dataframe\">\n",
       "  <thead>\n",
       "    <tr style=\"text-align: right;\">\n",
       "      <th></th>\n",
       "      <th>house_price_amsterdam</th>\n",
       "      <th>rental_agency_amsterdam</th>\n",
       "      <th>Postalcode</th>\n",
       "      <th>bedrooms_amsterdam</th>\n",
       "      <th>surface_amsterdam</th>\n",
       "      <th>Neighbourhood2019</th>\n",
       "      <th>Name_neighbourhood</th>\n",
       "      <th>District2019</th>\n",
       "      <th>Name_district</th>\n",
       "      <th>Municipality2019</th>\n",
       "      <th>Name_municipality</th>\n",
       "    </tr>\n",
       "  </thead>\n",
       "  <tbody>\n",
       "    <tr>\n",
       "      <th>0</th>\n",
       "      <td>2750.0</td>\n",
       "      <td>Out Amsterdam</td>\n",
       "      <td>1078JP</td>\n",
       "      <td>4</td>\n",
       "      <td>129</td>\n",
       "      <td>3635201</td>\n",
       "      <td>Scheldebuurt West</td>\n",
       "      <td>36352</td>\n",
       "      <td>Scheldebuurt</td>\n",
       "      <td>363</td>\n",
       "      <td>Amsterdam</td>\n",
       "    </tr>\n",
       "    <tr>\n",
       "      <th>1</th>\n",
       "      <td>1350.0</td>\n",
       "      <td>Hevesta Bemiddeling</td>\n",
       "      <td>1055MR</td>\n",
       "      <td>1</td>\n",
       "      <td>37</td>\n",
       "      <td>3633703</td>\n",
       "      <td>Landlust Zuid</td>\n",
       "      <td>36337</td>\n",
       "      <td>Landlust</td>\n",
       "      <td>363</td>\n",
       "      <td>Amsterdam</td>\n",
       "    </tr>\n",
       "    <tr>\n",
       "      <th>2</th>\n",
       "      <td>1350.0</td>\n",
       "      <td>Hevesta Bemiddeling</td>\n",
       "      <td>1055MR</td>\n",
       "      <td>1</td>\n",
       "      <td>37</td>\n",
       "      <td>3633706</td>\n",
       "      <td>Landlust Noord</td>\n",
       "      <td>36337</td>\n",
       "      <td>Landlust</td>\n",
       "      <td>363</td>\n",
       "      <td>Amsterdam</td>\n",
       "    </tr>\n",
       "    <tr>\n",
       "      <th>3</th>\n",
       "      <td>2000.0</td>\n",
       "      <td>ViaDaan</td>\n",
       "      <td>1082TC</td>\n",
       "      <td>3</td>\n",
       "      <td>75</td>\n",
       "      <td>3639000</td>\n",
       "      <td>Gelderlandpleinbuurt</td>\n",
       "      <td>36390</td>\n",
       "      <td>Buitenveldert-West</td>\n",
       "      <td>363</td>\n",
       "      <td>Amsterdam</td>\n",
       "    </tr>\n",
       "    <tr>\n",
       "      <th>4</th>\n",
       "      <td>1700.0</td>\n",
       "      <td>Expats. Amsterdam Rentals</td>\n",
       "      <td>1072NN</td>\n",
       "      <td>3</td>\n",
       "      <td>55</td>\n",
       "      <td>3632403</td>\n",
       "      <td>Hercules Seghersbuurt</td>\n",
       "      <td>36324</td>\n",
       "      <td>Oude Pijp</td>\n",
       "      <td>363</td>\n",
       "      <td>Amsterdam</td>\n",
       "    </tr>\n",
       "  </tbody>\n",
       "</table>\n",
       "</div>"
      ],
      "text/plain": [
       "   house_price_amsterdam     rental_agency_amsterdam Postalcode  \\\n",
       "0                 2750.0               Out Amsterdam     1078JP   \n",
       "1                 1350.0         Hevesta Bemiddeling     1055MR   \n",
       "2                 1350.0         Hevesta Bemiddeling     1055MR   \n",
       "3                 2000.0                     ViaDaan     1082TC   \n",
       "4                 1700.0  Expats. Amsterdam Rentals      1072NN   \n",
       "\n",
       "   bedrooms_amsterdam  surface_amsterdam  Neighbourhood2019  \\\n",
       "0                   4                129            3635201   \n",
       "1                   1                 37            3633703   \n",
       "2                   1                 37            3633706   \n",
       "3                   3                 75            3639000   \n",
       "4                   3                 55            3632403   \n",
       "\n",
       "      Name_neighbourhood  District2019       Name_district  Municipality2019  \\\n",
       "0      Scheldebuurt West         36352        Scheldebuurt               363   \n",
       "1          Landlust Zuid         36337            Landlust               363   \n",
       "2         Landlust Noord         36337            Landlust               363   \n",
       "3   Gelderlandpleinbuurt         36390  Buitenveldert-West               363   \n",
       "4  Hercules Seghersbuurt         36324           Oude Pijp               363   \n",
       "\n",
       "  Name_municipality  \n",
       "0         Amsterdam  \n",
       "1         Amsterdam  \n",
       "2         Amsterdam  \n",
       "3         Amsterdam  \n",
       "4         Amsterdam  "
      ]
     },
     "execution_count": 9,
     "metadata": {},
     "output_type": "execute_result"
    }
   ],
   "source": [
    "join_data_amsterdam=data_amsterdam.merge(postal_codes,how='left', left_on='Postalcode', right_on='Postalcode')\n",
    "join_data_amsterdam.head()"
   ]
  },
  {
   "cell_type": "markdown",
   "metadata": {},
   "source": [
    "Checking for missing values"
   ]
  },
  {
   "cell_type": "code",
   "execution_count": 1,
   "metadata": {
    "scrolled": false
   },
   "outputs": [
    {
     "ename": "NameError",
     "evalue": "name 'join_data_amsterdam' is not defined",
     "output_type": "error",
     "traceback": [
      "\u001b[0;31m---------------------------------------------------------------------------\u001b[0m",
      "\u001b[0;31mNameError\u001b[0m                                 Traceback (most recent call last)",
      "\u001b[0;32m<ipython-input-1-698b1aee4255>\u001b[0m in \u001b[0;36m<module>\u001b[0;34m\u001b[0m\n\u001b[0;32m----> 1\u001b[0;31m \u001b[0mjoin_data_amsterdam\u001b[0m\u001b[0;34m.\u001b[0m\u001b[0mcount\u001b[0m\u001b[0;34m(\u001b[0m\u001b[0;34m)\u001b[0m\u001b[0;34m\u001b[0m\u001b[0;34m\u001b[0m\u001b[0m\n\u001b[0m\u001b[1;32m      2\u001b[0m \u001b[0mmissing_value\u001b[0m \u001b[0;34m=\u001b[0m \u001b[0;34m[\u001b[0m\u001b[0;34m]\u001b[0m\u001b[0;34m\u001b[0m\u001b[0;34m\u001b[0m\u001b[0m\n\u001b[1;32m      3\u001b[0m \u001b[0;34m\u001b[0m\u001b[0m\n\u001b[1;32m      4\u001b[0m \u001b[0;32mfor\u001b[0m \u001b[0mcol\u001b[0m \u001b[0;32min\u001b[0m \u001b[0mjoin_data_amsterdam\u001b[0m\u001b[0;34m:\u001b[0m\u001b[0;34m\u001b[0m\u001b[0;34m\u001b[0m\u001b[0m\n\u001b[1;32m      5\u001b[0m     \u001b[0mmissing_value\u001b[0m\u001b[0;34m.\u001b[0m\u001b[0mappend\u001b[0m\u001b[0;34m(\u001b[0m\u001b[0mjoin_data_amsterdam\u001b[0m\u001b[0;34m[\u001b[0m\u001b[0mcol\u001b[0m\u001b[0;34m]\u001b[0m\u001b[0;34m.\u001b[0m\u001b[0misnull\u001b[0m\u001b[0;34m(\u001b[0m\u001b[0;34m)\u001b[0m\u001b[0;34m.\u001b[0m\u001b[0msum\u001b[0m\u001b[0;34m(\u001b[0m\u001b[0;34m)\u001b[0m\u001b[0;34m)\u001b[0m\u001b[0;34m\u001b[0m\u001b[0;34m\u001b[0m\u001b[0m\n",
      "\u001b[0;31mNameError\u001b[0m: name 'join_data_amsterdam' is not defined"
     ]
    }
   ],
   "source": [
    "join_data_amsterdam.count()\n",
    "missing_value = []\n",
    "\n",
    "for col in join_data_amsterdam:\n",
    "    missing_value.append(join_data_amsterdam[col].isnull().sum())\n",
    "    print(col,\"column has\", missing_value[-1] , \"missing value(s).\\n\")"
   ]
  },
  {
   "cell_type": "code",
   "execution_count": 11,
   "metadata": {},
   "outputs": [],
   "source": [
    "\n",
    "#join_data_amsterdam[join_data_amsterdam.isnull().any(1)]"
   ]
  },
  {
   "cell_type": "markdown",
   "metadata": {},
   "source": [
    "Dropping cells with missing values"
   ]
  },
  {
   "cell_type": "code",
   "execution_count": 12,
   "metadata": {},
   "outputs": [],
   "source": [
    "updated_data_amsterdam = join_data_amsterdam.dropna()"
   ]
  },
  {
   "cell_type": "code",
   "execution_count": 13,
   "metadata": {
    "scrolled": true
   },
   "outputs": [
    {
     "data": {
      "text/html": [
       "<div>\n",
       "<style scoped>\n",
       "    .dataframe tbody tr th:only-of-type {\n",
       "        vertical-align: middle;\n",
       "    }\n",
       "\n",
       "    .dataframe tbody tr th {\n",
       "        vertical-align: top;\n",
       "    }\n",
       "\n",
       "    .dataframe thead th {\n",
       "        text-align: right;\n",
       "    }\n",
       "</style>\n",
       "<table border=\"1\" class=\"dataframe\">\n",
       "  <thead>\n",
       "    <tr style=\"text-align: right;\">\n",
       "      <th></th>\n",
       "      <th>house_price_amsterdam</th>\n",
       "      <th>rental_agency_amsterdam</th>\n",
       "      <th>Postalcode</th>\n",
       "      <th>bedrooms_amsterdam</th>\n",
       "      <th>surface_amsterdam</th>\n",
       "      <th>Neighbourhood2019</th>\n",
       "      <th>Name_neighbourhood</th>\n",
       "      <th>District2019</th>\n",
       "      <th>Name_district</th>\n",
       "      <th>Municipality2019</th>\n",
       "      <th>Name_municipality</th>\n",
       "    </tr>\n",
       "  </thead>\n",
       "  <tbody>\n",
       "    <tr>\n",
       "      <th>0</th>\n",
       "      <td>2750.0</td>\n",
       "      <td>Out Amsterdam</td>\n",
       "      <td>1078JP</td>\n",
       "      <td>4</td>\n",
       "      <td>129</td>\n",
       "      <td>3635201</td>\n",
       "      <td>Scheldebuurt West</td>\n",
       "      <td>36352</td>\n",
       "      <td>Scheldebuurt</td>\n",
       "      <td>363</td>\n",
       "      <td>Amsterdam</td>\n",
       "    </tr>\n",
       "    <tr>\n",
       "      <th>1</th>\n",
       "      <td>1350.0</td>\n",
       "      <td>Hevesta Bemiddeling</td>\n",
       "      <td>1055MR</td>\n",
       "      <td>1</td>\n",
       "      <td>37</td>\n",
       "      <td>3633703</td>\n",
       "      <td>Landlust Zuid</td>\n",
       "      <td>36337</td>\n",
       "      <td>Landlust</td>\n",
       "      <td>363</td>\n",
       "      <td>Amsterdam</td>\n",
       "    </tr>\n",
       "    <tr>\n",
       "      <th>2</th>\n",
       "      <td>1350.0</td>\n",
       "      <td>Hevesta Bemiddeling</td>\n",
       "      <td>1055MR</td>\n",
       "      <td>1</td>\n",
       "      <td>37</td>\n",
       "      <td>3633706</td>\n",
       "      <td>Landlust Noord</td>\n",
       "      <td>36337</td>\n",
       "      <td>Landlust</td>\n",
       "      <td>363</td>\n",
       "      <td>Amsterdam</td>\n",
       "    </tr>\n",
       "    <tr>\n",
       "      <th>3</th>\n",
       "      <td>2000.0</td>\n",
       "      <td>ViaDaan</td>\n",
       "      <td>1082TC</td>\n",
       "      <td>3</td>\n",
       "      <td>75</td>\n",
       "      <td>3639000</td>\n",
       "      <td>Gelderlandpleinbuurt</td>\n",
       "      <td>36390</td>\n",
       "      <td>Buitenveldert-West</td>\n",
       "      <td>363</td>\n",
       "      <td>Amsterdam</td>\n",
       "    </tr>\n",
       "    <tr>\n",
       "      <th>4</th>\n",
       "      <td>1700.0</td>\n",
       "      <td>Expats. Amsterdam Rentals</td>\n",
       "      <td>1072NN</td>\n",
       "      <td>3</td>\n",
       "      <td>55</td>\n",
       "      <td>3632403</td>\n",
       "      <td>Hercules Seghersbuurt</td>\n",
       "      <td>36324</td>\n",
       "      <td>Oude Pijp</td>\n",
       "      <td>363</td>\n",
       "      <td>Amsterdam</td>\n",
       "    </tr>\n",
       "  </tbody>\n",
       "</table>\n",
       "</div>"
      ],
      "text/plain": [
       "   house_price_amsterdam     rental_agency_amsterdam Postalcode  \\\n",
       "0                 2750.0               Out Amsterdam     1078JP   \n",
       "1                 1350.0         Hevesta Bemiddeling     1055MR   \n",
       "2                 1350.0         Hevesta Bemiddeling     1055MR   \n",
       "3                 2000.0                     ViaDaan     1082TC   \n",
       "4                 1700.0  Expats. Amsterdam Rentals      1072NN   \n",
       "\n",
       "   bedrooms_amsterdam  surface_amsterdam  Neighbourhood2019  \\\n",
       "0                   4                129            3635201   \n",
       "1                   1                 37            3633703   \n",
       "2                   1                 37            3633706   \n",
       "3                   3                 75            3639000   \n",
       "4                   3                 55            3632403   \n",
       "\n",
       "      Name_neighbourhood  District2019       Name_district  Municipality2019  \\\n",
       "0      Scheldebuurt West         36352        Scheldebuurt               363   \n",
       "1          Landlust Zuid         36337            Landlust               363   \n",
       "2         Landlust Noord         36337            Landlust               363   \n",
       "3   Gelderlandpleinbuurt         36390  Buitenveldert-West               363   \n",
       "4  Hercules Seghersbuurt         36324           Oude Pijp               363   \n",
       "\n",
       "  Name_municipality  \n",
       "0         Amsterdam  \n",
       "1         Amsterdam  \n",
       "2         Amsterdam  \n",
       "3         Amsterdam  \n",
       "4         Amsterdam  "
      ]
     },
     "execution_count": 13,
     "metadata": {},
     "output_type": "execute_result"
    }
   ],
   "source": [
    "updated_data_amsterdam.head()"
   ]
  },
  {
   "cell_type": "code",
   "execution_count": 35,
   "metadata": {},
   "outputs": [
    {
     "data": {
      "text/html": [
       "<div>\n",
       "<style scoped>\n",
       "    .dataframe tbody tr th:only-of-type {\n",
       "        vertical-align: middle;\n",
       "    }\n",
       "\n",
       "    .dataframe tbody tr th {\n",
       "        vertical-align: top;\n",
       "    }\n",
       "\n",
       "    .dataframe thead th {\n",
       "        text-align: right;\n",
       "    }\n",
       "</style>\n",
       "<table border=\"1\" class=\"dataframe\">\n",
       "  <thead>\n",
       "    <tr style=\"text-align: right;\">\n",
       "      <th></th>\n",
       "      <th>Rental_Prices</th>\n",
       "      <th>Bedrooms</th>\n",
       "      <th>Surface Area</th>\n",
       "      <th>Neighbourhood 2019</th>\n",
       "      <th>District 2019</th>\n",
       "      <th>Municipality 2019</th>\n",
       "    </tr>\n",
       "  </thead>\n",
       "  <tbody>\n",
       "    <tr>\n",
       "      <th>count</th>\n",
       "      <td>2912.000000</td>\n",
       "      <td>2912.000000</td>\n",
       "      <td>2912.000000</td>\n",
       "      <td>2.912000e+03</td>\n",
       "      <td>2912.000000</td>\n",
       "      <td>2912.0</td>\n",
       "    </tr>\n",
       "    <tr>\n",
       "      <th>mean</th>\n",
       "      <td>1981.598558</td>\n",
       "      <td>2.743475</td>\n",
       "      <td>81.085165</td>\n",
       "      <td>3.633589e+06</td>\n",
       "      <td>36335.858860</td>\n",
       "      <td>363.0</td>\n",
       "    </tr>\n",
       "    <tr>\n",
       "      <th>std</th>\n",
       "      <td>918.612602</td>\n",
       "      <td>1.025504</td>\n",
       "      <td>40.390234</td>\n",
       "      <td>2.871075e+03</td>\n",
       "      <td>28.713471</td>\n",
       "      <td>0.0</td>\n",
       "    </tr>\n",
       "    <tr>\n",
       "      <th>min</th>\n",
       "      <td>350.000000</td>\n",
       "      <td>1.000000</td>\n",
       "      <td>12.000000</td>\n",
       "      <td>3.630000e+06</td>\n",
       "      <td>36300.000000</td>\n",
       "      <td>363.0</td>\n",
       "    </tr>\n",
       "    <tr>\n",
       "      <th>25%</th>\n",
       "      <td>1500.000000</td>\n",
       "      <td>2.000000</td>\n",
       "      <td>54.000000</td>\n",
       "      <td>3.630704e+06</td>\n",
       "      <td>36307.000000</td>\n",
       "      <td>363.0</td>\n",
       "    </tr>\n",
       "    <tr>\n",
       "      <th>50%</th>\n",
       "      <td>1750.000000</td>\n",
       "      <td>3.000000</td>\n",
       "      <td>75.000000</td>\n",
       "      <td>3.633505e+06</td>\n",
       "      <td>36335.000000</td>\n",
       "      <td>363.0</td>\n",
       "    </tr>\n",
       "    <tr>\n",
       "      <th>75%</th>\n",
       "      <td>2150.000000</td>\n",
       "      <td>3.000000</td>\n",
       "      <td>100.000000</td>\n",
       "      <td>3.635201e+06</td>\n",
       "      <td>36352.000000</td>\n",
       "      <td>363.0</td>\n",
       "    </tr>\n",
       "    <tr>\n",
       "      <th>max</th>\n",
       "      <td>12000.000000</td>\n",
       "      <td>7.000000</td>\n",
       "      <td>350.000000</td>\n",
       "      <td>3.639703e+06</td>\n",
       "      <td>36397.000000</td>\n",
       "      <td>363.0</td>\n",
       "    </tr>\n",
       "  </tbody>\n",
       "</table>\n",
       "</div>"
      ],
      "text/plain": [
       "       Rental_Prices     Bedrooms  Surface Area  Neighbourhood 2019  \\\n",
       "count    2912.000000  2912.000000   2912.000000        2.912000e+03   \n",
       "mean     1981.598558     2.743475     81.085165        3.633589e+06   \n",
       "std       918.612602     1.025504     40.390234        2.871075e+03   \n",
       "min       350.000000     1.000000     12.000000        3.630000e+06   \n",
       "25%      1500.000000     2.000000     54.000000        3.630704e+06   \n",
       "50%      1750.000000     3.000000     75.000000        3.633505e+06   \n",
       "75%      2150.000000     3.000000    100.000000        3.635201e+06   \n",
       "max     12000.000000     7.000000    350.000000        3.639703e+06   \n",
       "\n",
       "       District 2019  Municipality 2019  \n",
       "count    2912.000000             2912.0  \n",
       "mean    36335.858860              363.0  \n",
       "std        28.713471                0.0  \n",
       "min     36300.000000              363.0  \n",
       "25%     36307.000000              363.0  \n",
       "50%     36335.000000              363.0  \n",
       "75%     36352.000000              363.0  \n",
       "max     36397.000000              363.0  "
      ]
     },
     "execution_count": 35,
     "metadata": {},
     "output_type": "execute_result"
    }
   ],
   "source": [
    "updated_data_amsterdam.describe()"
   ]
  },
  {
   "cell_type": "markdown",
   "metadata": {},
   "source": [
    "Renaming Columns for better understanding"
   ]
  },
  {
   "cell_type": "code",
   "execution_count": 15,
   "metadata": {
    "scrolled": true
   },
   "outputs": [
    {
     "data": {
      "text/html": [
       "<div>\n",
       "<style scoped>\n",
       "    .dataframe tbody tr th:only-of-type {\n",
       "        vertical-align: middle;\n",
       "    }\n",
       "\n",
       "    .dataframe tbody tr th {\n",
       "        vertical-align: top;\n",
       "    }\n",
       "\n",
       "    .dataframe thead th {\n",
       "        text-align: right;\n",
       "    }\n",
       "</style>\n",
       "<table border=\"1\" class=\"dataframe\">\n",
       "  <thead>\n",
       "    <tr style=\"text-align: right;\">\n",
       "      <th></th>\n",
       "      <th>Rental_Prices</th>\n",
       "      <th>Rental Agency</th>\n",
       "      <th>Postcode</th>\n",
       "      <th>Bedrooms</th>\n",
       "      <th>Surface Area</th>\n",
       "      <th>Neighbourhood 2019</th>\n",
       "      <th>Neighbourhood</th>\n",
       "      <th>District 2019</th>\n",
       "      <th>District Name</th>\n",
       "      <th>Municipality 2019</th>\n",
       "      <th>Municipality Name</th>\n",
       "    </tr>\n",
       "  </thead>\n",
       "  <tbody>\n",
       "    <tr>\n",
       "      <th>0</th>\n",
       "      <td>2750.0</td>\n",
       "      <td>Out Amsterdam</td>\n",
       "      <td>1078JP</td>\n",
       "      <td>4</td>\n",
       "      <td>129</td>\n",
       "      <td>3635201</td>\n",
       "      <td>Scheldebuurt West</td>\n",
       "      <td>36352</td>\n",
       "      <td>Scheldebuurt</td>\n",
       "      <td>363</td>\n",
       "      <td>Amsterdam</td>\n",
       "    </tr>\n",
       "    <tr>\n",
       "      <th>1</th>\n",
       "      <td>1350.0</td>\n",
       "      <td>Hevesta Bemiddeling</td>\n",
       "      <td>1055MR</td>\n",
       "      <td>1</td>\n",
       "      <td>37</td>\n",
       "      <td>3633703</td>\n",
       "      <td>Landlust Zuid</td>\n",
       "      <td>36337</td>\n",
       "      <td>Landlust</td>\n",
       "      <td>363</td>\n",
       "      <td>Amsterdam</td>\n",
       "    </tr>\n",
       "    <tr>\n",
       "      <th>2</th>\n",
       "      <td>1350.0</td>\n",
       "      <td>Hevesta Bemiddeling</td>\n",
       "      <td>1055MR</td>\n",
       "      <td>1</td>\n",
       "      <td>37</td>\n",
       "      <td>3633706</td>\n",
       "      <td>Landlust Noord</td>\n",
       "      <td>36337</td>\n",
       "      <td>Landlust</td>\n",
       "      <td>363</td>\n",
       "      <td>Amsterdam</td>\n",
       "    </tr>\n",
       "    <tr>\n",
       "      <th>3</th>\n",
       "      <td>2000.0</td>\n",
       "      <td>ViaDaan</td>\n",
       "      <td>1082TC</td>\n",
       "      <td>3</td>\n",
       "      <td>75</td>\n",
       "      <td>3639000</td>\n",
       "      <td>Gelderlandpleinbuurt</td>\n",
       "      <td>36390</td>\n",
       "      <td>Buitenveldert-West</td>\n",
       "      <td>363</td>\n",
       "      <td>Amsterdam</td>\n",
       "    </tr>\n",
       "    <tr>\n",
       "      <th>4</th>\n",
       "      <td>1700.0</td>\n",
       "      <td>Expats. Amsterdam Rentals</td>\n",
       "      <td>1072NN</td>\n",
       "      <td>3</td>\n",
       "      <td>55</td>\n",
       "      <td>3632403</td>\n",
       "      <td>Hercules Seghersbuurt</td>\n",
       "      <td>36324</td>\n",
       "      <td>Oude Pijp</td>\n",
       "      <td>363</td>\n",
       "      <td>Amsterdam</td>\n",
       "    </tr>\n",
       "  </tbody>\n",
       "</table>\n",
       "</div>"
      ],
      "text/plain": [
       "   Rental_Prices               Rental Agency Postcode  Bedrooms  Surface Area  \\\n",
       "0         2750.0               Out Amsterdam   1078JP         4           129   \n",
       "1         1350.0         Hevesta Bemiddeling   1055MR         1            37   \n",
       "2         1350.0         Hevesta Bemiddeling   1055MR         1            37   \n",
       "3         2000.0                     ViaDaan   1082TC         3            75   \n",
       "4         1700.0  Expats. Amsterdam Rentals    1072NN         3            55   \n",
       "\n",
       "   Neighbourhood 2019          Neighbourhood  District 2019  \\\n",
       "0             3635201      Scheldebuurt West          36352   \n",
       "1             3633703          Landlust Zuid          36337   \n",
       "2             3633706         Landlust Noord          36337   \n",
       "3             3639000   Gelderlandpleinbuurt          36390   \n",
       "4             3632403  Hercules Seghersbuurt          36324   \n",
       "\n",
       "        District Name  Municipality 2019 Municipality Name  \n",
       "0        Scheldebuurt                363         Amsterdam  \n",
       "1            Landlust                363         Amsterdam  \n",
       "2            Landlust                363         Amsterdam  \n",
       "3  Buitenveldert-West                363         Amsterdam  \n",
       "4           Oude Pijp                363         Amsterdam  "
      ]
     },
     "execution_count": 15,
     "metadata": {},
     "output_type": "execute_result"
    }
   ],
   "source": [
    "updated_data_amsterdam.columns\n",
    "updated_data_amsterdam=updated_data_amsterdam.rename(columns={'house_price_amsterdam':'Rental_Prices', 'rental_agency_amsterdam':'Rental Agency', 'Postalcode':'Postcode',\n",
    "       'bedrooms_amsterdam':'Bedrooms', 'surface_amsterdam':'Surface Area', 'Neighbourhood2019':'Neighbourhood 2019',\n",
    "       'Name_neighbourhood':'Neighbourhood', 'District2019':'District 2019', 'Name_district': 'District Name',\n",
    "       'Municipality2019':'Municipality 2019', 'Name_municipality':'Municipality Name'})\n",
    "updated_data_amsterdam.head()"
   ]
  },
  {
   "cell_type": "markdown",
   "metadata": {},
   "source": [
    "Getting Statistics for rental Prices"
   ]
  },
  {
   "cell_type": "code",
   "execution_count": 16,
   "metadata": {},
   "outputs": [
    {
     "data": {
      "text/plain": [
       "count     2912.000000\n",
       "mean      1981.598558\n",
       "std        918.612602\n",
       "min        350.000000\n",
       "25%       1500.000000\n",
       "50%       1750.000000\n",
       "75%       2150.000000\n",
       "max      12000.000000\n",
       "Name: Rental_Prices, dtype: float64"
      ]
     },
     "execution_count": 16,
     "metadata": {},
     "output_type": "execute_result"
    }
   ],
   "source": [
    "updated_data_amsterdam['Rental_Prices'].describe()\n"
   ]
  },
  {
   "cell_type": "markdown",
   "metadata": {},
   "source": [
    "count     2912.000000\n",
    "mean      1981.598558\n",
    "std        918.612602\n",
    "min        350.000000\n",
    "25%       1500.000000\n",
    "50%       1750.000000\n",
    "75%       2150.000000\n",
    "max      12000.000000\n",
    "Name: house_price_amsterdam, dtype: float64"
   ]
  },
  {
   "cell_type": "markdown",
   "metadata": {},
   "source": [
    "Getting statistics on the basis of bedrooms"
   ]
  },
  {
   "cell_type": "code",
   "execution_count": 17,
   "metadata": {},
   "outputs": [
    {
     "data": {
      "text/plain": [
       "1     286\n",
       "2     884\n",
       "3    1224\n",
       "4     380\n",
       "5      99\n",
       "6      25\n",
       "7      14\n",
       "Name: Bedrooms, dtype: int64"
      ]
     },
     "execution_count": 17,
     "metadata": {},
     "output_type": "execute_result"
    }
   ],
   "source": [
    "updated_data_amsterdam['Bedrooms'].value_counts().sort_index()"
   ]
  },
  {
   "cell_type": "code",
   "execution_count": 18,
   "metadata": {},
   "outputs": [],
   "source": [
    "from sklearn import preprocessing\n",
    "import matplotlib.pyplot as plt\n",
    "%matplotlib inline"
   ]
  },
  {
   "cell_type": "code",
   "execution_count": 19,
   "metadata": {},
   "outputs": [
    {
     "data": {
      "text/plain": [
       "<matplotlib.axes._subplots.AxesSubplot at 0x7fcb5987cf90>"
      ]
     },
     "execution_count": 19,
     "metadata": {},
     "output_type": "execute_result"
    },
    {
     "data": {
      "image/png": "[encoded data removed]",
      "text/plain": [
       "<Figure size 432x288 with 1 Axes>"
      ]
     },
     "metadata": {
      "needs_background": "light"
     },
     "output_type": "display_data"
    }
   ],
   "source": [
    "plt.title('Bedrooms vs  number of Houses listed ')\n",
    "updated_data_amsterdam['Bedrooms'].value_counts().sort_index().plot.bar()"
   ]
  },
  {
   "cell_type": "markdown",
   "metadata": {},
   "source": [
    "Showing the correlation between surface area and rental prices"
   ]
  },
  {
   "cell_type": "code",
   "execution_count": 20,
   "metadata": {},
   "outputs": [
    {
     "data": {
      "image/png": "[encoded data removed]",
      "text/plain": [
       "<Figure size 432x288 with 1 Axes>"
      ]
     },
     "metadata": {
      "needs_background": "light"
     },
     "output_type": "display_data"
    }
   ],
   "source": [
    "import matplotlib.pyplot as plt\n",
    "plt.figure()\n",
    "plt.scatter(updated_data_amsterdam['Surface Area'],updated_data_amsterdam['Rental_Prices'], s=20, edgecolor=\"black\",c=\"darkorange\", label=\"surface\")\n",
    "plt.xlabel(\"Surface Area\")\n",
    "plt.ylabel(\"Rental_Prices\")\n",
    "plt.title(\"Surface Area vs. Rental Prices\")\n",
    "plt.legend()\n",
    "plt.show()"
   ]
  },
  {
   "cell_type": "markdown",
   "metadata": {},
   "source": [
    "When it comes to the surface area of the apartment, there is a very clear upwards sloping trend relationship between the two!"
   ]
  },
  {
   "cell_type": "markdown",
   "metadata": {},
   "source": [
    "Getting postcodes where most rental houses are listed ie most popular locality"
   ]
  },
  {
   "cell_type": "code",
   "execution_count": 21,
   "metadata": {},
   "outputs": [],
   "source": [
    "updated_data_amsterdam['Postcode_Numeric'] = updated_data_amsterdam['Postcode'].str.replace('([A-Z]+)', '')"
   ]
  },
  {
   "cell_type": "code",
   "execution_count": 22,
   "metadata": {},
   "outputs": [
    {
     "data": {
      "text/html": [
       "<div>\n",
       "<style scoped>\n",
       "    .dataframe tbody tr th:only-of-type {\n",
       "        vertical-align: middle;\n",
       "    }\n",
       "\n",
       "    .dataframe tbody tr th {\n",
       "        vertical-align: top;\n",
       "    }\n",
       "\n",
       "    .dataframe thead th {\n",
       "        text-align: right;\n",
       "    }\n",
       "</style>\n",
       "<table border=\"1\" class=\"dataframe\">\n",
       "  <thead>\n",
       "    <tr style=\"text-align: right;\">\n",
       "      <th></th>\n",
       "      <th>Rental_Prices</th>\n",
       "      <th>Rental Agency</th>\n",
       "      <th>Postcode</th>\n",
       "      <th>Bedrooms</th>\n",
       "      <th>Surface Area</th>\n",
       "      <th>Neighbourhood 2019</th>\n",
       "      <th>Neighbourhood</th>\n",
       "      <th>District 2019</th>\n",
       "      <th>District Name</th>\n",
       "      <th>Municipality 2019</th>\n",
       "      <th>Municipality Name</th>\n",
       "      <th>Postcode_Numeric</th>\n",
       "    </tr>\n",
       "  </thead>\n",
       "  <tbody>\n",
       "    <tr>\n",
       "      <th>0</th>\n",
       "      <td>2750.0</td>\n",
       "      <td>Out Amsterdam</td>\n",
       "      <td>1078JP</td>\n",
       "      <td>4</td>\n",
       "      <td>129</td>\n",
       "      <td>3635201</td>\n",
       "      <td>Scheldebuurt West</td>\n",
       "      <td>36352</td>\n",
       "      <td>Scheldebuurt</td>\n",
       "      <td>363</td>\n",
       "      <td>Amsterdam</td>\n",
       "      <td>1078</td>\n",
       "    </tr>\n",
       "    <tr>\n",
       "      <th>1</th>\n",
       "      <td>1350.0</td>\n",
       "      <td>Hevesta Bemiddeling</td>\n",
       "      <td>1055MR</td>\n",
       "      <td>1</td>\n",
       "      <td>37</td>\n",
       "      <td>3633703</td>\n",
       "      <td>Landlust Zuid</td>\n",
       "      <td>36337</td>\n",
       "      <td>Landlust</td>\n",
       "      <td>363</td>\n",
       "      <td>Amsterdam</td>\n",
       "      <td>1055</td>\n",
       "    </tr>\n",
       "    <tr>\n",
       "      <th>2</th>\n",
       "      <td>1350.0</td>\n",
       "      <td>Hevesta Bemiddeling</td>\n",
       "      <td>1055MR</td>\n",
       "      <td>1</td>\n",
       "      <td>37</td>\n",
       "      <td>3633706</td>\n",
       "      <td>Landlust Noord</td>\n",
       "      <td>36337</td>\n",
       "      <td>Landlust</td>\n",
       "      <td>363</td>\n",
       "      <td>Amsterdam</td>\n",
       "      <td>1055</td>\n",
       "    </tr>\n",
       "    <tr>\n",
       "      <th>3</th>\n",
       "      <td>2000.0</td>\n",
       "      <td>ViaDaan</td>\n",
       "      <td>1082TC</td>\n",
       "      <td>3</td>\n",
       "      <td>75</td>\n",
       "      <td>3639000</td>\n",
       "      <td>Gelderlandpleinbuurt</td>\n",
       "      <td>36390</td>\n",
       "      <td>Buitenveldert-West</td>\n",
       "      <td>363</td>\n",
       "      <td>Amsterdam</td>\n",
       "      <td>1082</td>\n",
       "    </tr>\n",
       "    <tr>\n",
       "      <th>4</th>\n",
       "      <td>1700.0</td>\n",
       "      <td>Expats. Amsterdam Rentals</td>\n",
       "      <td>1072NN</td>\n",
       "      <td>3</td>\n",
       "      <td>55</td>\n",
       "      <td>3632403</td>\n",
       "      <td>Hercules Seghersbuurt</td>\n",
       "      <td>36324</td>\n",
       "      <td>Oude Pijp</td>\n",
       "      <td>363</td>\n",
       "      <td>Amsterdam</td>\n",
       "      <td>1072</td>\n",
       "    </tr>\n",
       "  </tbody>\n",
       "</table>\n",
       "</div>"
      ],
      "text/plain": [
       "   Rental_Prices               Rental Agency Postcode  Bedrooms  Surface Area  \\\n",
       "0         2750.0               Out Amsterdam   1078JP         4           129   \n",
       "1         1350.0         Hevesta Bemiddeling   1055MR         1            37   \n",
       "2         1350.0         Hevesta Bemiddeling   1055MR         1            37   \n",
       "3         2000.0                     ViaDaan   1082TC         3            75   \n",
       "4         1700.0  Expats. Amsterdam Rentals    1072NN         3            55   \n",
       "\n",
       "   Neighbourhood 2019          Neighbourhood  District 2019  \\\n",
       "0             3635201      Scheldebuurt West          36352   \n",
       "1             3633703          Landlust Zuid          36337   \n",
       "2             3633706         Landlust Noord          36337   \n",
       "3             3639000   Gelderlandpleinbuurt          36390   \n",
       "4             3632403  Hercules Seghersbuurt          36324   \n",
       "\n",
       "        District Name  Municipality 2019 Municipality Name Postcode_Numeric  \n",
       "0        Scheldebuurt                363         Amsterdam             1078  \n",
       "1            Landlust                363         Amsterdam             1055  \n",
       "2            Landlust                363         Amsterdam             1055  \n",
       "3  Buitenveldert-West                363         Amsterdam             1082  \n",
       "4           Oude Pijp                363         Amsterdam             1072  "
      ]
     },
     "execution_count": 22,
     "metadata": {},
     "output_type": "execute_result"
    }
   ],
   "source": [
    "updated_data_amsterdam.head()"
   ]
  },
  {
   "cell_type": "code",
   "execution_count": 23,
   "metadata": {},
   "outputs": [
    {
     "data": {
      "text/plain": [
       "1055    266\n",
       "1017    190\n",
       "1015    145\n",
       "1012    144\n",
       "1016    144\n",
       "       ... \n",
       "1086      3\n",
       "1097      2\n",
       "1042      2\n",
       "1101      1\n",
       "1105      1\n",
       "Name: Postcode_Numeric, Length: 69, dtype: int64"
      ]
     },
     "execution_count": 23,
     "metadata": {},
     "output_type": "execute_result"
    }
   ],
   "source": [
    "updated_data_amsterdam['Postcode_Numeric'].value_counts()"
   ]
  },
  {
   "cell_type": "code",
   "execution_count": 26,
   "metadata": {},
   "outputs": [
    {
     "data": {
      "text/html": [
       "<div>\n",
       "<style scoped>\n",
       "    .dataframe tbody tr th:only-of-type {\n",
       "        vertical-align: middle;\n",
       "    }\n",
       "\n",
       "    .dataframe tbody tr th {\n",
       "        vertical-align: top;\n",
       "    }\n",
       "\n",
       "    .dataframe thead th {\n",
       "        text-align: right;\n",
       "    }\n",
       "</style>\n",
       "<table border=\"1\" class=\"dataframe\">\n",
       "  <thead>\n",
       "    <tr style=\"text-align: right;\">\n",
       "      <th></th>\n",
       "      <th>Rental_Prices</th>\n",
       "      <th>Rental Agency</th>\n",
       "      <th>Postcode</th>\n",
       "      <th>Bedrooms</th>\n",
       "      <th>Surface Area</th>\n",
       "      <th>Neighbourhood 2019</th>\n",
       "      <th>Neighbourhood</th>\n",
       "      <th>District 2019</th>\n",
       "      <th>District Name</th>\n",
       "      <th>Municipality 2019</th>\n",
       "      <th>Municipality Name</th>\n",
       "      <th>Postcode_Numeric</th>\n",
       "    </tr>\n",
       "  </thead>\n",
       "  <tbody>\n",
       "    <tr>\n",
       "      <th>1</th>\n",
       "      <td>1350.0</td>\n",
       "      <td>Hevesta Bemiddeling</td>\n",
       "      <td>1055MR</td>\n",
       "      <td>1</td>\n",
       "      <td>37</td>\n",
       "      <td>3633703</td>\n",
       "      <td>Landlust Zuid</td>\n",
       "      <td>36337</td>\n",
       "      <td>Landlust</td>\n",
       "      <td>363</td>\n",
       "      <td>Amsterdam</td>\n",
       "      <td>1055</td>\n",
       "    </tr>\n",
       "    <tr>\n",
       "      <th>2</th>\n",
       "      <td>1350.0</td>\n",
       "      <td>Hevesta Bemiddeling</td>\n",
       "      <td>1055MR</td>\n",
       "      <td>1</td>\n",
       "      <td>37</td>\n",
       "      <td>3633706</td>\n",
       "      <td>Landlust Noord</td>\n",
       "      <td>36337</td>\n",
       "      <td>Landlust</td>\n",
       "      <td>363</td>\n",
       "      <td>Amsterdam</td>\n",
       "      <td>1055</td>\n",
       "    </tr>\n",
       "    <tr>\n",
       "      <th>35</th>\n",
       "      <td>1350.0</td>\n",
       "      <td>Hevesta Bemiddeling</td>\n",
       "      <td>1055MR</td>\n",
       "      <td>1</td>\n",
       "      <td>37</td>\n",
       "      <td>3633703</td>\n",
       "      <td>Landlust Zuid</td>\n",
       "      <td>36337</td>\n",
       "      <td>Landlust</td>\n",
       "      <td>363</td>\n",
       "      <td>Amsterdam</td>\n",
       "      <td>1055</td>\n",
       "    </tr>\n",
       "    <tr>\n",
       "      <th>36</th>\n",
       "      <td>1350.0</td>\n",
       "      <td>Hevesta Bemiddeling</td>\n",
       "      <td>1055MR</td>\n",
       "      <td>1</td>\n",
       "      <td>37</td>\n",
       "      <td>3633706</td>\n",
       "      <td>Landlust Noord</td>\n",
       "      <td>36337</td>\n",
       "      <td>Landlust</td>\n",
       "      <td>363</td>\n",
       "      <td>Amsterdam</td>\n",
       "      <td>1055</td>\n",
       "    </tr>\n",
       "    <tr>\n",
       "      <th>69</th>\n",
       "      <td>1350.0</td>\n",
       "      <td>Hevesta Bemiddeling</td>\n",
       "      <td>1055MR</td>\n",
       "      <td>1</td>\n",
       "      <td>37</td>\n",
       "      <td>3633703</td>\n",
       "      <td>Landlust Zuid</td>\n",
       "      <td>36337</td>\n",
       "      <td>Landlust</td>\n",
       "      <td>363</td>\n",
       "      <td>Amsterdam</td>\n",
       "      <td>1055</td>\n",
       "    </tr>\n",
       "  </tbody>\n",
       "</table>\n",
       "</div>"
      ],
      "text/plain": [
       "    Rental_Prices        Rental Agency Postcode  Bedrooms  Surface Area  \\\n",
       "1          1350.0  Hevesta Bemiddeling   1055MR         1            37   \n",
       "2          1350.0  Hevesta Bemiddeling   1055MR         1            37   \n",
       "35         1350.0  Hevesta Bemiddeling   1055MR         1            37   \n",
       "36         1350.0  Hevesta Bemiddeling   1055MR         1            37   \n",
       "69         1350.0  Hevesta Bemiddeling   1055MR         1            37   \n",
       "\n",
       "    Neighbourhood 2019   Neighbourhood  District 2019 District Name  \\\n",
       "1              3633703   Landlust Zuid          36337      Landlust   \n",
       "2              3633706  Landlust Noord          36337      Landlust   \n",
       "35             3633703   Landlust Zuid          36337      Landlust   \n",
       "36             3633706  Landlust Noord          36337      Landlust   \n",
       "69             3633703   Landlust Zuid          36337      Landlust   \n",
       "\n",
       "    Municipality 2019 Municipality Name Postcode_Numeric  \n",
       "1                 363         Amsterdam             1055  \n",
       "2                 363         Amsterdam             1055  \n",
       "35                363         Amsterdam             1055  \n",
       "36                363         Amsterdam             1055  \n",
       "69                363         Amsterdam             1055  "
      ]
     },
     "execution_count": 26,
     "metadata": {},
     "output_type": "execute_result"
    }
   ],
   "source": [
    "\n",
    "most_recurring_locality=updated_data_amsterdam.query('Postcode_Numeric == \"1055\"')\n",
    "most_recurring_locality.head()\n"
   ]
  },
  {
   "cell_type": "code",
   "execution_count": 32,
   "metadata": {
    "scrolled": true
   },
   "outputs": [
    {
     "data": {
      "text/plain": [
       "count     266.000000\n",
       "mean     1348.289474\n",
       "std       174.631652\n",
       "min      1150.000000\n",
       "25%      1250.000000\n",
       "50%      1350.000000\n",
       "75%      1350.000000\n",
       "max      2250.000000\n",
       "Name: Rental_Prices, dtype: float64"
      ]
     },
     "execution_count": 32,
     "metadata": {},
     "output_type": "execute_result"
    }
   ],
   "source": [
    "most_recurring_locality['Rental_Prices'].describe()"
   ]
  },
  {
   "cell_type": "code",
   "execution_count": 34,
   "metadata": {},
   "outputs": [
    {
     "data": {
      "text/plain": [
       "1250.0    123\n",
       "1350.0    105\n",
       "1850.0      4\n",
       "1550.0      4\n",
       "1500.0      4\n",
       "1700.0      3\n",
       "2250.0      3\n",
       "2000.0      2\n",
       "1600.0      2\n",
       "1450.0      2\n",
       "1375.0      2\n",
       "1400.0      2\n",
       "1800.0      1\n",
       "1200.0      1\n",
       "2200.0      1\n",
       "1525.0      1\n",
       "1150.0      1\n",
       "1900.0      1\n",
       "1925.0      1\n",
       "1175.0      1\n",
       "1495.0      1\n",
       "1675.0      1\n",
       "Name: Rental_Prices, dtype: int64"
      ]
     },
     "execution_count": 34,
     "metadata": {},
     "output_type": "execute_result"
    }
   ],
   "source": [
    "most_recurring_locality['Rental_Prices'].value_counts()"
   ]
  },
  {
   "cell_type": "markdown",
   "metadata": {},
   "source": [
    "Most popular locality"
   ]
  },
  {
   "cell_type": "code",
   "execution_count": 24,
   "metadata": {},
   "outputs": [
    {
     "data": {
      "text/plain": [
       "Landlust       251\n",
       "De Kolenkit      8\n",
       "Erasmuspark      7\n",
       "Name: District Name, dtype: int64"
      ]
     },
     "execution_count": 24,
     "metadata": {},
     "output_type": "execute_result"
    }
   ],
   "source": [
    "most_recurring_locality['District Name'].value_counts()"
   ]
  },
  {
   "cell_type": "code",
   "execution_count": 25,
   "metadata": {},
   "outputs": [
    {
     "data": {
      "text/plain": [
       "<matplotlib.axes._subplots.AxesSubplot at 0x7f9470c6a350>"
      ]
     },
     "execution_count": 25,
     "metadata": {},
     "output_type": "execute_result"
    },
    {
     "data": {
      "image/png": "[encoded data removed]",
      "text/plain": [
       "<Figure size 432x288 with 1 Axes>"
      ]
     },
     "metadata": {},
     "output_type": "display_data"
    }
   ],
   "source": [
    "most_recurring_locality.groupby(['District Name']).sum().plot(kind='pie', y='Rental_Prices', shadow = True, startangle=90)\n"
   ]
  },
  {
   "cell_type": "markdown",
   "metadata": {},
   "source": [
    "FINAL ANALYSIS"
   ]
  },
  {
   "cell_type": "markdown",
   "metadata": {},
   "source": [
    "How common factors are affecting the price of the houses ?"
   ]
  },
  {
   "cell_type": "code",
   "execution_count": 39,
   "metadata": {},
   "outputs": [
    {
     "data": {
      "text/plain": [
       "<matplotlib.axes._subplots.AxesSubplot at 0x7fcb5a8b09d0>"
      ]
     },
     "execution_count": 39,
     "metadata": {},
     "output_type": "execute_result"
    },
    {
     "data": {
      "image/png": "[encoded data removed]",
      "text/plain": [
       "<Figure size 432x288 with 1 Axes>"
      ]
     },
     "metadata": {
      "needs_background": "light"
     },
     "output_type": "display_data"
    }
   ],
   "source": [
    "plt.title('Bedrooms vs  number of Houses listed ')\n",
    "updated_data_amsterdam['Bedrooms'].value_counts().sort_index().plot.bar()"
   ]
  },
  {
   "cell_type": "markdown",
   "metadata": {},
   "source": [
    "As seen from the above analysis , most listed houses are with 3 bedrooms ,followed by two.As we can see from the visualization 3 bedroom houses are most commonly sold followed by 2 bedroom. So how is it useful ? For a builder having this data , He can make a new building with more 3 and 4 bedroom’s to attract more buyers.\n"
   ]
  },
  {
   "cell_type": "code",
   "execution_count": 42,
   "metadata": {},
   "outputs": [
    {
     "data": {
      "image/png": "[encoded data removed]",
      "text/plain": [
       "<Figure size 432x288 with 1 Axes>"
      ]
     },
     "metadata": {
      "needs_background": "light"
     },
     "output_type": "display_data"
    }
   ],
   "source": [
    "import matplotlib.pyplot as plt\n",
    "plt.figure()\n",
    "plt.scatter(updated_data_amsterdam['Bedrooms'],updated_data_amsterdam['Rental_Prices'], s=20, edgecolor=\"black\",c=\"darkorange\", label=\"surface\")\n",
    "plt.xlabel(\"Bedrooms\")\n",
    "plt.ylabel(\"Rental_Prices\")\n",
    "plt.title(\"Bedrooms vs. Rental Prices\")\n",
    "plt.legend()\n",
    "plt.show()"
   ]
  },
  {
   "cell_type": "markdown",
   "metadata": {},
   "source": [
    "From the  figure we can see that more the number of bedrooms . Thanks to scatter plot we can also see some irregularities that the house with the maximum number of bedrooms was sold for  less . This could be explained with may be less demand for them."
   ]
  },
  {
   "cell_type": "code",
   "execution_count": 40,
   "metadata": {},
   "outputs": [
    {
     "data": {
      "image/png": "[encoded data removed]",
      "text/plain": [
       "<Figure size 432x288 with 1 Axes>"
      ]
     },
     "metadata": {
      "needs_background": "light"
     },
     "output_type": "display_data"
    }
   ],
   "source": [
    "import matplotlib.pyplot as plt\n",
    "plt.figure()\n",
    "plt.scatter(updated_data_amsterdam['Surface Area'],updated_data_amsterdam['Rental_Prices'], s=20, edgecolor=\"black\",c=\"darkorange\", label=\"surface\")\n",
    "plt.xlabel(\"Surface Area\")\n",
    "plt.ylabel(\"Rental_Prices\")\n",
    "plt.title(\"Surface Area vs. Rental Prices\")\n",
    "plt.legend()\n",
    "plt.show()"
   ]
  },
  {
   "cell_type": "markdown",
   "metadata": {},
   "source": [
    "Maximum square feet is 12  where as the minimum is 350. we can see that the data is distributed"
   ]
  },
  {
   "cell_type": "markdown",
   "metadata": {},
   "source": [
    "Also,When it comes to the surface area of the apartment, there is a very clear upwards sloping trend relationship between the two"
   ]
  },
  {
   "cell_type": "code",
   "execution_count": 41,
   "metadata": {},
   "outputs": [
    {
     "data": {
      "text/plain": [
       "<matplotlib.axes._subplots.AxesSubplot at 0x7fcb5ab7edd0>"
      ]
     },
     "execution_count": 41,
     "metadata": {},
     "output_type": "execute_result"
    },
    {
     "data": {
      "image/png": "[encoded data removed]",
      "text/plain": [
       "<Figure size 432x288 with 1 Axes>"
      ]
     },
     "metadata": {},
     "output_type": "display_data"
    }
   ],
   "source": [
    "most_recurring_locality.groupby(['District Name']).sum().plot(kind='pie', y='Rental_Prices', shadow = True, startangle=90)\n"
   ]
  },
  {
   "cell_type": "markdown",
   "metadata": {},
   "source": [
    "And most of the houses are listed in Landlust ,De Kolenkit  ,Erasmuspark    areas of Amsterdam  with prices between 1150 Euros and 2250 Euros and majority of them at 1250 Euros. "
   ]
  },
  {
   "cell_type": "code",
   "execution_count": null,
   "metadata": {},
   "outputs": [],
   "source": []
  }
 ],
 "metadata": {
  "kernelspec": {
   "display_name": "Python 3",
   "language": "python",
   "name": "python3"
  },
  "language_info": {
   "codemirror_mode": {
    "name": "ipython",
    "version": 3
   },
   "file_extension": ".py",
   "mimetype": "text/x-python",
   "name": "python",
   "nbconvert_exporter": "python",
   "pygments_lexer": "ipython3",
   "version": "3.7.6"
  }
 },
 "nbformat": 4,
 "nbformat_minor": 4
}
