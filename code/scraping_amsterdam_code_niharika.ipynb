{
 "cells": [
  {
   "cell_type": "code",
   "execution_count": 1,
   "metadata": {},
   "outputs": [],
   "source": [
    "#importing required libraries\n",
    "import pandas as pd\n",
    "import itertools \n",
    "from bs4 import BeautifulSoup\n",
    "import requests\n",
    "from requests import get\n",
    "import time\n",
    "from random import seed\n",
    "from random import random\n",
    "from random import randint"
   ]
  },
  {
   "cell_type": "code",
   "execution_count": 2,
   "metadata": {},
   "outputs": [],
   "source": [
    "# specify the url format of the rental  website\n",
    "url = 'https://www.pararius.com/apartments/amsterdam/page-'"
   ]
  },
  {
   "cell_type": "code",
   "execution_count": 1,
   "metadata": {
    "scrolled": false
   },
   "outputs": [
    {
     "ename": "NameError",
     "evalue": "name 'get' is not defined",
     "output_type": "error",
     "traceback": [
      "\u001b[0;31m---------------------------------------------------------------------------\u001b[0m",
      "\u001b[0;31mNameError\u001b[0m                                 Traceback (most recent call last)",
      "\u001b[0;32m<ipython-input-1-05988e0cdc4f>\u001b[0m in \u001b[0;36m<module>\u001b[0;34m\u001b[0m\n\u001b[1;32m     15\u001b[0m         \u001b[0mfirst_page\u001b[0m \u001b[0;34m=\u001b[0m \u001b[0;34m'https://www.pararius.com/apartments/amsterdam/page-1'\u001b[0m\u001b[0;34m\u001b[0m\u001b[0;34m\u001b[0m\u001b[0m\n\u001b[1;32m     16\u001b[0m         \u001b[0;31m# request the response\u001b[0m\u001b[0;34m\u001b[0m\u001b[0;34m\u001b[0m\u001b[0;34m\u001b[0m\u001b[0m\n\u001b[0;32m---> 17\u001b[0;31m         \u001b[0mresponse\u001b[0m \u001b[0;34m=\u001b[0m \u001b[0mget\u001b[0m\u001b[0;34m(\u001b[0m\u001b[0mfirst_page\u001b[0m\u001b[0;34m)\u001b[0m\u001b[0;34m\u001b[0m\u001b[0;34m\u001b[0m\u001b[0m\n\u001b[0m\u001b[1;32m     18\u001b[0m         \u001b[0;31m# parse through the html\u001b[0m\u001b[0;34m\u001b[0m\u001b[0;34m\u001b[0m\u001b[0;34m\u001b[0m\u001b[0m\n\u001b[1;32m     19\u001b[0m         \u001b[0mhtml_soup\u001b[0m \u001b[0;34m=\u001b[0m \u001b[0mBeautifulSoup\u001b[0m\u001b[0;34m(\u001b[0m\u001b[0mresponse\u001b[0m\u001b[0;34m.\u001b[0m\u001b[0mtext\u001b[0m\u001b[0;34m,\u001b[0m \u001b[0;34m'html.parser'\u001b[0m\u001b[0;34m)\u001b[0m\u001b[0;34m\u001b[0m\u001b[0;34m\u001b[0m\u001b[0m\n",
      "\u001b[0;31mNameError\u001b[0m: name 'get' is not defined"
     ]
    }
   ],
   "source": [
    "# initialize a list called houses\n",
    "houses = []\n",
    "\n",
    "# initialize variable count at 1\n",
    "count = 1\n",
    "\n",
    "\n",
    "# first while loop that will run 100 times \n",
    "\n",
    "while count <= 100:\n",
    "    # initialize variable new_count at 0\n",
    "    new_count = 0\n",
    "    # if loop that specifies the first page separately (many websites have a first page url format different than other pages)\n",
    "    if count == 1:\n",
    "        first_page = 'https://www.pararius.com/apartments/amsterdam/page-1'\n",
    "        # request the response\n",
    "        response = get(first_page)\n",
    "        # parse through the html \n",
    "        html_soup = BeautifulSoup(response.text, 'html.parser')\n",
    "        # in the html of the page, find all the bins with <li> and class:\n",
    "        house_data = html_soup.find_all('li', class_=\"search-list__item search-list__item--listing\")\n",
    "        # I like to print where the program is on the screen so we can follow its progress and where any errors happened\n",
    "        print(first_page)\n",
    "        \n",
    "        # if the response was not empty (if something was actually scraped)\n",
    "        if house_data != []:\n",
    "            # add to the list houses\n",
    "            houses.extend(house_data)\n",
    "            # random wait times\n",
    "            value = random()\n",
    "            scaled_value = 1 + (value * (9 - 5))\n",
    "            print(scaled_value)\n",
    "            time.sleep(scaled_value)\n",
    "    # pages other than the first\n",
    "    elif count != 1:\n",
    "    # collect four and wait random times \n",
    "        url = 'https://www.pararius.com/apartments/amsterdam/page-' + str(count)\n",
    "        print(url)\n",
    "        response = get(url)\n",
    "        html_soup = BeautifulSoup(response.text, 'html.parser')\n",
    "        print(response)\n",
    "        house_data = html_soup.find_all('li', class_=\"search-list__item search-list__item--listing\")\n",
    "\n",
    "        if house_data != []:\n",
    "            houses.extend(house_data)\n",
    "            value = random()\n",
    "            scaled_value = 1 + (value * (9 - 5))\n",
    "            print(scaled_value)\n",
    "            time.sleep(scaled_value)\n",
    "\n",
    "        # if you get empty response, stop the loop\n",
    "        else:\n",
    "            print('empty')\n",
    "            break\n",
    "            \n",
    "\n",
    "    count += 1"
   ]
  },
  {
   "cell_type": "code",
   "execution_count": null,
   "metadata": {},
   "outputs": [],
   "source": [
    "len(houses)"
   ]
  },
  {
   "cell_type": "code",
   "execution_count": null,
   "metadata": {
    "scrolled": false
   },
   "outputs": [],
   "source": [
    "\n",
    "## DATA FORMATTING \n",
    "## initializing lists and variables\n",
    "count = 0\n",
    "house_price = []\n",
    "rental_agency = []\n",
    "location = []\n",
    "city = []\n",
    "bedrooms = []\n",
    "surface = []\n",
    "## how long we are running the while loop for \n",
    "n = int(len(houses)) - 1\n",
    "\n",
    "while count <= n:\n",
    "    # running the loop through each html bin we scraped\n",
    "    num = houses[int(count)]\n",
    "    \n",
    "    # getting the price: make sure to test this code a few times by itself to understand exactly which parameters will work \n",
    "    price = num.find_all('span',{\"class\":\"listing-search-item__price\"})[0].text\n",
    "    house_price.append(price)\n",
    "    df_price = pd.DataFrame({'house_price':house_price})\n",
    "    df_price['house_price'] = df_price['house_price'].str.replace(\"\\D\",\"\")\n",
    "    df_price['house_price'] = df_price['house_price'].str.replace(\"per month\",\"\")\n",
    "    \n",
    "    # if you have a variable that is not present on all ads the ads, you can use try and except to avoid stopping the loop\n",
    "    try:\n",
    "        agency = num.find_all('a', href=True)[2].text\n",
    "    except IndexError:\n",
    "        agency = 'none'\n",
    "    rental_agency.append(agency)\n",
    "    df_agency = pd.DataFrame({'rental_agency':rental_agency})\n",
    "    \n",
    "   #getting the postcode: make sure to test this code a few times by itself to understand exactly which parameters will work \n",
    "    postcode = num.find('div',{\"class\":\"listing-search-item__location\"}).text\n",
    "    location.append(postcode)\n",
    "    df_postcode = pd.DataFrame({'postcode':location})\n",
    "    df_postcode['postcode'] = df_postcode['postcode'].str.replace(\"\\nApartment\\n \",\"\")\n",
    "    df_postcode['postcode'] = df_postcode['postcode'].str.replace(\"\\n\",\"\")\n",
    "    df_postcode['postcode'] = df_postcode['postcode'].str.replace(\"\\s\",\"\")\n",
    "    df_postcode['postcode'] = df_postcode['postcode'].str.replace(\"               \",\"\")\n",
    "    df_postcode['postcode'] = df_postcode['postcode'].str.replace(\"new\",\"\")\n",
    "    df_postcode['postcode'] = df_postcode['postcode'].str[0:6]\n",
    "    \n",
    "    #getting the number of bedrooms: make sure to test this code a few times by itself to understand exactly which parameters will work \n",
    "    bedrooms_num = num.find_all('dd',{\"class\":\"illustrated-features__description\"})[1].text\n",
    "    bedrooms.append(bedrooms_num)\n",
    "    df_bedrooms = pd.DataFrame({'bedrooms':bedrooms})\n",
    "    df_bedrooms['bedrooms'] = df_bedrooms['bedrooms'].str.replace(\"\\D\",\"\")\n",
    "    \n",
    "    #getting the sq meter size: make sure to test this code a few times by itself to understand exactly which parameters will work \n",
    "    size = num.find_all('dd',{\"class\":\"illustrated-features__description\"})[0].text\n",
    "    surface.append(size)\n",
    "    df_surface = pd.DataFrame({'surface':surface})\n",
    "    df_surface['surface'] = df_surface['surface'].str.replace(\"\\D\",\"\")\n",
    "    \n",
    "    print(count)\n",
    "    \n",
    "    count += 1\n",
    "\n",
    "# concat all the different dataframes created, culminating in dfa (completed dataframe)\n",
    "result = pd.concat([df_price, df_agency], axis=1, sort=False)\n",
    "result2 = pd.concat([result, df_postcode], axis=1, sort=False)\n",
    "result3 = pd.concat([result2, df_bedrooms], axis=1, sort=False)\n",
    "df = pd.concat([result3, df_surface], axis=1, sort=False)"
   ]
  },
  {
   "cell_type": "code",
   "execution_count": null,
   "metadata": {},
   "outputs": [],
   "source": [
    "df.head(100)"
   ]
  },
  {
   "cell_type": "code",
   "execution_count": null,
   "metadata": {},
   "outputs": [],
   "source": [
    "df.to_csv(\"rental_data_amsterdam.csv\",index=\"false\")"
   ]
  },
  {
   "cell_type": "code",
   "execution_count": null,
   "metadata": {},
   "outputs": [],
   "source": []
  }
 ],
 "metadata": {
  "kernelspec": {
   "display_name": "Python 3",
   "language": "python",
   "name": "python3"
  },
  "language_info": {
   "codemirror_mode": {
    "name": "ipython",
    "version": 3
   },
   "file_extension": ".py",
   "mimetype": "text/x-python",
   "name": "python",
   "nbconvert_exporter": "python",
   "pygments_lexer": "ipython3",
   "version": "3.7.6"
  }
 },
 "nbformat": 4,
 "nbformat_minor": 4
}
